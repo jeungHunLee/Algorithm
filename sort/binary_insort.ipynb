{
 "cells": [
  {
   "cell_type": "markdown",
   "id": "b5b7e687",
   "metadata": {},
   "source": [
    "## 이진 삽입 정렬 알고리즘의 구현(bisect.insort 사용)"
   ]
  },
  {
   "cell_type": "code",
   "execution_count": 2,
   "id": "0b5d8a01",
   "metadata": {},
   "outputs": [
    {
     "name": "stdout",
     "output_type": "stream",
     "text": [
      "이진 삽입 정렬을 수행합니다.\n",
      "원소 수를 입력하세요.: 7\n",
      "x[0]: 6\n",
      "x[1]: 4\n",
      "x[2]: 3\n",
      "x[3]: 7\n",
      "x[4]: 1\n",
      "x[5]: 9\n",
      "x[6]: 8\n",
      "오름차순으로 정렬했습니다.\n",
      "x[0] = 1\n",
      "x[1] = 3\n",
      "x[2] = 4\n",
      "x[3] = 6\n",
      "x[4] = 7\n",
      "x[5] = 8\n",
      "x[6] = 9\n"
     ]
    }
   ],
   "source": [
    "import bisect\n",
    "\n",
    "def binary_insertion_sort(a):\n",
    "    for i in range(1, len(a)):\n",
    "        bisect.insort(a, a.pop(i), 0, i)    # a의 i번쨰 요소를 pop하고 a[0:i]에서 이진 삽입 정렬\n",
    "\n",
    "print('이진 삽입 정렬을 수행합니다.')\n",
    "num = int(input('원소 수를 입력하세요.: '))\n",
    "x = [None] * num            # 원소 수가 num인 배열을 생성\n",
    "\n",
    "for i in range(num):\n",
    "    x[i] = int(input(f'x[{i}]: '))\n",
    "\n",
    "binary_insertion_sort(x)    # 배열 x를 이진 삽입 정렬\n",
    "\n",
    "print('오름차순으로 정렬했습니다.')\n",
    "for i in range(num):\n",
    "    print(f'x[{i}] = {x[i]}')"
   ]
  }
 ],
 "metadata": {
  "kernelspec": {
   "display_name": "Python 3 (ipykernel)",
   "language": "python",
   "name": "python3"
  },
  "language_info": {
   "codemirror_mode": {
    "name": "ipython",
    "version": 3
   },
   "file_extension": ".py",
   "mimetype": "text/x-python",
   "name": "python",
   "nbconvert_exporter": "python",
   "pygments_lexer": "ipython3",
   "version": "3.10.3"
  }
 },
 "nbformat": 4,
 "nbformat_minor": 5
}
