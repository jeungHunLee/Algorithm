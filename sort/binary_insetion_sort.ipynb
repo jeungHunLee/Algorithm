{
 "cells": [
  {
   "cell_type": "markdown",
   "id": "fd5690c5",
   "metadata": {},
   "source": [
    "## 이진 삽입 정렬 알고리즘"
   ]
  },
  {
   "cell_type": "code",
   "execution_count": 2,
   "id": "6d640d2e",
   "metadata": {},
   "outputs": [
    {
     "name": "stdout",
     "output_type": "stream",
     "text": [
      "이진 삽입 정렬을 수행합니다.\n",
      "원소 수를 입력하세요.: 7\n",
      "x[0]: 6\n",
      "x[1]: 4\n",
      "x[2]: 3\n",
      "x[3]: 7\n",
      "x[4]: 1\n",
      "x[5]: 9\n",
      "x[6]: 8\n",
      "오름차순으로 정렬했습니다.\n",
      "x[0] = 1\n",
      "x[1] = 3\n",
      "x[2] = 4\n",
      "x[3] = 6\n",
      "x[4] = 7\n",
      "x[5] = 8\n",
      "x[6] = 9\n"
     ]
    }
   ],
   "source": [
    "def binary_insertion_sort(a):\n",
    "    n = len(a)\n",
    "    for i in range(1, n):    # i번 이전 원소는 정렬 되어 있다고 가정 따라서 이진 검색을 통해 삽입할 위치 검색\n",
    "        key = a[i]\n",
    "        start = 0\n",
    "        end = i - 1\n",
    "        \n",
    "        while True:\n",
    "            mid = (start + end) // 2\n",
    "            if a[mid] == key:\n",
    "                break\n",
    "            \n",
    "            elif a[mid] < key:\n",
    "                start = mid + 1\n",
    "                \n",
    "            else:\n",
    "                end = mid - 1\n",
    "                \n",
    "            if start > end:\n",
    "                break\n",
    "                \n",
    "        target = mid + 1 if start <= end else start     # 검색 성공시 mid의 뒤에 key 삽입, 검색 실패시 start에 key 삽입\n",
    "        \n",
    "        for j in range(i, target, -1):\n",
    "            a[j] = a[j - 1]\n",
    "        a[target] = key    # key 삽입\n",
    "        \n",
    "print(\"이진 삽입 정렬을 수행합니다.\")\n",
    "num = int(input(\"원소 수를 입력하세요.: \"))\n",
    "x = [None] * num          # 원소 수가 num인 배열을 생성\n",
    "\n",
    "for i in range(num):\n",
    "    x[i] = int(input(f\"x[{i}]: \"))\n",
    "\n",
    "binary_insertion_sort(x)  # 배열 x를 이진 삽입 정렬\n",
    "\n",
    "print(\"오름차순으로 정렬했습니다.\")\n",
    "for i in range(num):\n",
    "    print(f\"x[{i}] = {x[i]}\")"
   ]
  },
  {
   "cell_type": "code",
   "execution_count": null,
   "id": "7eadf9ff",
   "metadata": {},
   "outputs": [],
   "source": []
  }
 ],
 "metadata": {
  "kernelspec": {
   "display_name": "Python 3 (ipykernel)",
   "language": "python",
   "name": "python3"
  },
  "language_info": {
   "codemirror_mode": {
    "name": "ipython",
    "version": 3
   },
   "file_extension": ".py",
   "mimetype": "text/x-python",
   "name": "python",
   "nbconvert_exporter": "python",
   "pygments_lexer": "ipython3",
   "version": "3.10.3"
  }
 },
 "nbformat": 4,
 "nbformat_minor": 5
}
