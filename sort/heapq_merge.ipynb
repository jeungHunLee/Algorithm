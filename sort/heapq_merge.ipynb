{
 "cells": [
  {
   "cell_type": "markdown",
   "id": "242412b4",
   "metadata": {},
   "source": [
    "## 정렬을 마친 두 배열의 병합 (heapq.merege)"
   ]
  },
  {
   "cell_type": "code",
   "execution_count": 1,
   "id": "0b76f9ec",
   "metadata": {},
   "outputs": [
    {
     "name": "stdout",
     "output_type": "stream",
     "text": [
      "배열 a와 b를 병합하여 배열 c에 저장하였습니다.\n",
      "배열 a: [1, 2, 6, 8, 11, 13]\n",
      "배열 b: [1, 2, 3, 4, 9, 16, 21]\n",
      "배열 c: [1, 1, 2, 2, 3, 4, 6, 8, 9, 11, 13, 16, 21]\n"
     ]
    }
   ],
   "source": [
    "import heapq\n",
    "\n",
    "a = [1, 2, 6, 8, 11, 13]\n",
    "b = [1, 2, 3, 4, 9, 16, 21]\n",
    "c = list(heapq.merge(a, b))  # 배열 a와 b를 병합하여 c에 저장\n",
    "\n",
    "print('배열 a와 b를 병합하여 배열 c에 저장하였습니다.')\n",
    "print(f'배열 a: {a}')\n",
    "print(f'배열 b: {b}')\n",
    "print(f'배열 c: {c}')"
   ]
  }
 ],
 "metadata": {
  "kernelspec": {
   "display_name": "Python 3.10.3 64-bit",
   "language": "python",
   "name": "python3"
  },
  "language_info": {
   "codemirror_mode": {
    "name": "ipython",
    "version": 3
   },
   "file_extension": ".py",
   "mimetype": "text/x-python",
   "name": "python",
   "nbconvert_exporter": "python",
   "pygments_lexer": "ipython3",
   "version": "3.10.3"
  },
  "vscode": {
   "interpreter": {
    "hash": "aee8b7b246df8f9039afb4144a1f6fd8d2ca17a180786b69acc140d282b71a49"
   }
  }
 },
 "nbformat": 4,
 "nbformat_minor": 5
}
