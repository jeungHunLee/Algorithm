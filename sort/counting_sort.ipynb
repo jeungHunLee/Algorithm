{
 "cells": [
  {
   "cell_type": "markdown",
   "id": "471d7c51",
   "metadata": {},
   "source": [
    "## counting sort"
   ]
  },
  {
   "cell_type": "code",
   "execution_count": 8,
   "id": "e729acc6",
   "metadata": {},
   "outputs": [
    {
     "name": "stdout",
     "output_type": "stream",
     "text": [
      "도수 정렬을 합니다.\n",
      "원소 수를 입력하세요. : 9\n",
      "x[0] : 5\n",
      "x[1] : 7\n",
      "x[2] : 0\n",
      "x[3] : 2\n",
      "x[4] : 4\n",
      "x[5] : 10\n",
      "x[6] : 3\n",
      "x[7] : 1\n",
      "x[8] : 3\n",
      "오름차순으로 정렬했습니다.\n",
      "x[0] = 0\n",
      "x[1] = 1\n",
      "x[2] = 2\n",
      "x[3] = 3\n",
      "x[4] = 3\n",
      "x[5] = 4\n",
      "x[6] = 5\n",
      "x[7] = 7\n",
      "x[8] = 10\n"
     ]
    }
   ],
   "source": [
    "def counting_sort(x):\n",
    "    f = [0] * (max(x) + 1)    # 원소는 0 ~ max(x)까지 이므로 개수는 max(x) + 1개\n",
    "    for i in range(num):    # 리스트 x에서 나온 개수만큼 count 버퍼에 개수 증가\n",
    "        f[x[i]] += 1\n",
    "        \n",
    "    i = 0\n",
    "    for j in range(len(f)):\n",
    "        for _ in range(f[j]):    # count한 개수 만큼 다시 리스트 x에 저장(오름차순으로 정렬)\n",
    "            x[i] = j\n",
    "            i += 1\n",
    "\n",
    "print('도수 정렬을 합니다.')\n",
    "num = int(input('원소 수를 입력하세요. : '))\n",
    "x = [None] * num  # 원소 수가 num인 배열을 생성\n",
    "\n",
    "for i in range(num):  # 양수만 입력받음\n",
    "    while True:\n",
    "        x[i] = int(input(f'x[{i}] : '))\n",
    "        if x[i] >= 0: break\n",
    "\n",
    "counting_sort(x)  # 배열 x를 도수 정렬\n",
    "\n",
    "print('오름차순으로 정렬했습니다.')\n",
    "for i in range(num):\n",
    "    print(f'x[{i}] = {x[i]}')"
   ]
  }
 ],
 "metadata": {
  "kernelspec": {
   "display_name": "Python 3 (ipykernel)",
   "language": "python",
   "name": "python3"
  },
  "language_info": {
   "codemirror_mode": {
    "name": "ipython",
    "version": 3
   },
   "file_extension": ".py",
   "mimetype": "text/x-python",
   "name": "python",
   "nbconvert_exporter": "python",
   "pygments_lexer": "ipython3",
   "version": "3.10.3"
  }
 },
 "nbformat": 4,
 "nbformat_minor": 5
}
