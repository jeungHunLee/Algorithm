{
 "cells": [
  {
   "cell_type": "markdown",
   "id": "da21ad20",
   "metadata": {},
   "source": [
    "## 실습 6-8 셸 정렬 알고리즘 구현하기(h + 3 + 1의 수열 사용)"
   ]
  },
  {
   "cell_type": "code",
   "execution_count": 1,
   "id": "534b78fd",
   "metadata": {},
   "outputs": [
    {
     "name": "stdout",
     "output_type": "stream",
     "text": [
      "셸 정렬을 수행합니다.\n",
      "원소 수를 입력하세요8\n",
      "x[0]: 8\n",
      "x[1]: 1\n",
      "x[2]: 4\n",
      "x[3]: 2\n",
      "x[4]: 7\n",
      "x[5]: 6\n",
      "x[6]: 3\n",
      "x[7]: 5\n",
      "오름차순으로 정렬했습니다.\n",
      "x[0]: 1\n",
      "x[1]: 2\n",
      "x[2]: 3\n",
      "x[3]: 4\n",
      "x[4]: 5\n",
      "x[5]: 6\n",
      "x[6]: 7\n",
      "x[7]: 8\n"
     ]
    }
   ],
   "source": [
    "def shell_sort(a):\n",
    "    n = len(a)\n",
    "    h = 1\n",
    "    \n",
    "    while h < n // 9:    # h 값이 크다면 효과가 없기때문에 h 범위 제한\n",
    "        h = h * 3 + 1\n",
    "    \n",
    "    while h > 0:\n",
    "        for i in range(h, n):\n",
    "            j = i - h    # 앞쪽 요소\n",
    "            tmp = a[i]\n",
    "            while j >= 0 and a[j] > tmp:\n",
    "                a[j + h] = a[j]    # 앞 요소가 더 크면 뒤 요소 값 변경\n",
    "                j -= h\n",
    "            a[j + h] = tmp    # 앞 요소 값 변경\n",
    "        h //= 3\n",
    "        \n",
    "print(\"셸 정렬을 수행합니다.\")\n",
    "num = int(input(\"원소 수를 입력하세요\"))\n",
    "x = [0] * num\n",
    "\n",
    "for i in range(num):\n",
    "    x[i] = int(input(f'x[{i}]: '))\n",
    "                     \n",
    "shell_sort(x)\n",
    "                     \n",
    "print(\"오름차순으로 정렬했습니다.\")\n",
    "for i in range(num):\n",
    "    print(f'x[{i}]: {x[i]}')"
   ]
  }
 ],
 "metadata": {
  "kernelspec": {
   "display_name": "Python 3 (ipykernel)",
   "language": "python",
   "name": "python3"
  },
  "language_info": {
   "codemirror_mode": {
    "name": "ipython",
    "version": 3
   },
   "file_extension": ".py",
   "mimetype": "text/x-python",
   "name": "python",
   "nbconvert_exporter": "python",
   "pygments_lexer": "ipython3",
   "version": "3.10.3"
  }
 },
 "nbformat": 4,
 "nbformat_minor": 5
}
