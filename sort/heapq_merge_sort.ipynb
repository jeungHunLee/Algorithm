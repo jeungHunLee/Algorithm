{
 "cells": [
  {
   "cell_type": "markdown",
   "id": "0bdd0626",
   "metadata": {},
   "source": [
    "## 병합 정렬 알고리즘 구현하기(heapq.merge를 사용)"
   ]
  },
  {
   "cell_type": "code",
   "execution_count": 5,
   "id": "6964eedd",
   "metadata": {},
   "outputs": [
    {
     "name": "stdout",
     "output_type": "stream",
     "text": [
      "병합 정렬을 수행합니다\n",
      "원소 수를 입력하세요.: 12\n",
      "x[0]: 1\n",
      "x[1]: 3\n",
      "x[2]: 12\n",
      "x[3]: 6\n",
      "x[4]: 4\n",
      "x[5]: 11\n",
      "x[6]: 8\n",
      "x[7]: 7\n",
      "x[8]: 3\n",
      "x[9]: 2\n",
      "x[10]: 6\n",
      "x[11]: 5\n",
      "오름차순으로 정렬했습니다.\n",
      "x[0] = 1\n",
      "x[1] = 2\n",
      "x[2] = 3\n",
      "x[3] = 3\n",
      "x[4] = 4\n",
      "x[5] = 5\n",
      "x[6] = 6\n",
      "x[7] = 6\n",
      "x[8] = 7\n",
      "x[9] = 8\n",
      "x[10] = 11\n",
      "x[11] = 12\n"
     ]
    }
   ],
   "source": [
    "import heapq\n",
    "\n",
    "def merge_sort(a):\n",
    "    \n",
    "    def _merge_sort(a, left, right):\n",
    "        if left < right:\n",
    "            center = (left + right) // 2\n",
    "            \n",
    "            _merge_sort(a, left, center)    # 앞 부분 정렬\n",
    "            _merge_sort(a, center + 1, right)    # 뒷 부분 정렬\n",
    "            \n",
    "            buff = list(heapq.merge(a[left: center + 1], a[center + 1: right+ 1]))    # 앞 부분과 뒷 부분 병합하여 리스트로 반환\n",
    "            for i in range(len(buff)):\n",
    "                a[left + i] = buff[i]    # 정렬을 마친 buff의 값을 리스트 a로 이동\n",
    "        \n",
    "    n = len(a)\n",
    "    _merge_sort(a, 0, n - 1)\n",
    "    \n",
    "print('병합 정렬을 수행합니다')\n",
    "num = int(input('원소 수를 입력하세요.: '))\n",
    "x = [None] * num    # 원소 수가 num인 배열을 생성\n",
    "\n",
    "for i in range(num):\n",
    "    x[i] = int(input(f'x[{i}]: '))\n",
    "\n",
    "merge_sort(x)       # 배열 x를 병합 정렬\n",
    "\n",
    "print('오름차순으로 정렬했습니다.')\n",
    "for i in range(num):\n",
    "    print(f'x[{i}] = {x[i]}')"
   ]
  }
 ],
 "metadata": {
  "kernelspec": {
   "display_name": "Python 3 (ipykernel)",
   "language": "python",
   "name": "python3"
  },
  "language_info": {
   "codemirror_mode": {
    "name": "ipython",
    "version": 3
   },
   "file_extension": ".py",
   "mimetype": "text/x-python",
   "name": "python",
   "nbconvert_exporter": "python",
   "pygments_lexer": "ipython3",
   "version": "3.10.3"
  }
 },
 "nbformat": 4,
 "nbformat_minor": 5
}
