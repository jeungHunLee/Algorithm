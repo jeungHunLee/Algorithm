{
 "cells": [
  {
   "cell_type": "markdown",
   "id": "069b8e0a",
   "metadata": {},
   "source": [
    "## 실습 6-5 셰이커 정렬 알고리즘"
   ]
  },
  {
   "cell_type": "code",
   "execution_count": 1,
   "id": "095756f7",
   "metadata": {},
   "outputs": [
    {
     "name": "stdout",
     "output_type": "stream",
     "text": [
      "셰이커 정렬을 수행합니다.\n",
      "원소 수를 입력하세요7\n",
      "x[0]: 9\n",
      "x[1]: 1\n",
      "x[2]: 3\n",
      "x[3]: 4\n",
      "x[4]: 6\n",
      "x[5]: 7\n",
      "x[6]: 8\n",
      "오름차순으로 정렬했습니다.\n",
      "x[0]: 1\n",
      "x[1]: 3\n",
      "x[2]: 4\n",
      "x[3]: 6\n",
      "x[4]: 7\n",
      "x[5]: 8\n",
      "x[6]: 9\n"
     ]
    }
   ],
   "source": [
    "def shaker_sort(x):\n",
    "    start = 0\n",
    "    end = len(x) - 1\n",
    "    last = end    # 마지막으로 교환된 위치\n",
    "\n",
    "    while start < end:\n",
    "        for i in range(end - 1, start, -1):    # 홀수 패스, 작은 것을 앞으로 이동\n",
    "            if x[i] < x[i - 1]:\n",
    "                x[i], x[i - 1] = x[i - 1], x[i]\n",
    "                last = i\n",
    "\n",
    "        start = last\n",
    "\n",
    "        for i in range(start, end):    # 짝수 패스, 큰 것을 뒤로 이동\n",
    "            if x[i] > x[i + 1]:\n",
    "                x[i], x[i + 1] = x[i + 1], x[i]\n",
    "                last = i\n",
    "\n",
    "        end = last\n",
    "        \n",
    "print(\"셰이커 정렬을 수행합니다.\")\n",
    "num = int(input(\"원소 수를 입력하세요\"))\n",
    "x = [0] * num\n",
    "\n",
    "for i in range(num):\n",
    "    x[i] = int(input(f'x[{i}]: '))\n",
    "                     \n",
    "shaker_sort(x)\n",
    "                     \n",
    "print(\"오름차순으로 정렬했습니다.\")\n",
    "for i in range(num):\n",
    "    print(f'x[{i}]: {x[i]}')"
   ]
  }
 ],
 "metadata": {
  "kernelspec": {
   "display_name": "Python 3 (ipykernel)",
   "language": "python",
   "name": "python3"
  },
  "language_info": {
   "codemirror_mode": {
    "name": "ipython",
    "version": 3
   },
   "file_extension": ".py",
   "mimetype": "text/x-python",
   "name": "python",
   "nbconvert_exporter": "python",
   "pygments_lexer": "ipython3",
   "version": "3.10.3"
  }
 },
 "nbformat": 4,
 "nbformat_minor": 5
}
