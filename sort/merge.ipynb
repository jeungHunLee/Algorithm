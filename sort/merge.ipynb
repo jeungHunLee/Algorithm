{
 "cells": [
  {
   "cell_type": "markdown",
   "id": "49f4b50b",
   "metadata": {},
   "source": [
    "## 정렬을 마친 두 배열을 병합 하기"
   ]
  },
  {
   "cell_type": "code",
   "execution_count": 4,
   "id": "29528161",
   "metadata": {},
   "outputs": [
    {
     "name": "stdout",
     "output_type": "stream",
     "text": [
      "정렬을 마친 두 배열의 병합을 수행합니다.\n",
      "배열 a와 b를 병합하여 배열 c에 저장하였습니다.\n",
      "배열 a: [2, 4, 6, 8, 11, 13]\n",
      "배열 b: [1, 2, 3, 4, 9, 16, 21]\n",
      "배열 c: [1, 2, 2, 3, 4, 4, 6, 8, 9, 11, 13, 16, 21]\n"
     ]
    }
   ],
   "source": [
    "def merge_sorted_list(a, b, c):    # 정렬을 마친 a와 b를 c에 병합\n",
    "    pa, pb, pc = 0, 0, 0    # 각 리스트의 첫번쨰 index(커서)\n",
    "    na, nb, nc = len(a), len(b), len(c)    # 각 리스트의 크기\n",
    "    \n",
    "    while pa < na and pb < nb:\n",
    "        # a[pa]와 b[pb] 중 더 작은 것을 c에 추가\n",
    "        if a[pa] <= b[pb]:\n",
    "            c[pc] = a[pa]\n",
    "            pa += 1\n",
    "        else:\n",
    "            c[pc] = b[pb]\n",
    "            pb += 1\n",
    "        \n",
    "        pc += 1\n",
    "        \n",
    "    # 위의 과정 종료 후 한쪽 리스트만 값이 남아 있기 때문에 나머지 리스트 요소를 모두 c에 저장\n",
    "    while pa < na:\n",
    "        c[pc] = a[pa]\n",
    "        pa += 1\n",
    "        pc += 1\n",
    "        \n",
    "    while pb < nb:\n",
    "        c[pc] = b[pb]\n",
    "        pb += 1\n",
    "        pc += 1\n",
    "        \n",
    "a = [2, 4, 6, 8, 11, 13]\n",
    "b = [1, 2, 3, 4, 9, 16, 21]\n",
    "c = [None] * (len(a) + len(b))\n",
    "print('정렬을 마친 두 배열의 병합을 수행합니다.')\n",
    "\n",
    "merge_sorted_list(a, b, c)  # 배열 a와 b를 병합하여 c에 저장\n",
    "\n",
    "print('배열 a와 b를 병합하여 배열 c에 저장하였습니다.')\n",
    "print(f'배열 a: {a}')\n",
    "print(f'배열 b: {b}')\n",
    "print(f'배열 c: {c}')"
   ]
  }
 ],
 "metadata": {
  "kernelspec": {
   "display_name": "Python 3 (ipykernel)",
   "language": "python",
   "name": "python3"
  },
  "language_info": {
   "codemirror_mode": {
    "name": "ipython",
    "version": 3
   },
   "file_extension": ".py",
   "mimetype": "text/x-python",
   "name": "python",
   "nbconvert_exporter": "python",
   "pygments_lexer": "ipython3",
   "version": "3.10.3"
  }
 },
 "nbformat": 4,
 "nbformat_minor": 5
}
