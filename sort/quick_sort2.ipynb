{
 "cells": [
  {
   "cell_type": "markdown",
   "id": "e5a808e5",
   "metadata": {},
   "source": [
    "## 퀵 장렬 알고리즘 구현하기(원소 수가 9 미만이면 단순 삽입 정렬)\n",
    "원소수가 작을수록 퀵 정렬의 시간복잡도는 증가하여 O(n<sup>2</sup>)"
   ]
  },
  {
   "cell_type": "code",
   "execution_count": 8,
   "id": "224f01ba",
   "metadata": {},
   "outputs": [
    {
     "name": "stdout",
     "output_type": "stream",
     "text": [
      "퀵 정렬을 합니다(원소 수가 9개 미만이면 단순 삽입 정렬).\n",
      "원소 수를 입력하세요.: 12\n",
      "x[0]: 5\n",
      "x[1]: 8\n",
      "x[2]: 4\n",
      "x[3]: 2\n",
      "x[4]: 6\n",
      "x[5]: 1\n",
      "x[6]: 3\n",
      "x[7]: 9\n",
      "x[8]: 7\n",
      "x[9]: 0\n",
      "x[10]: 3\n",
      "x[11]: 5\n",
      "오름차순으로 정렬했습니다.\n",
      "x[0] = 0\n",
      "x[1] = 1\n",
      "x[2] = 2\n",
      "x[3] = 3\n",
      "x[4] = 3\n",
      "x[5] = 4\n",
      "x[6] = 5\n",
      "x[7] = 5\n",
      "x[8] = 6\n",
      "x[9] = 7\n",
      "x[10] = 8\n",
      "x[11] = 9\n"
     ]
    }
   ],
   "source": [
    "def sort3(a, idx1, idx2, idx3):    # 가장 첫번째 원소, 중간 원소, 마지막 원소를 오름차순 정렬 후 중간 원소 index 반환\n",
    "    assending_order = [a[idx1], a[idx2], a[idx3]]\n",
    "    insertion_sort(assending_order, 0, 2)\n",
    "    a[idx1] = assending_order[0]\n",
    "    a[idx2] = assending_order[1]\n",
    "    a[idx3] = assending_order[2]\n",
    "    return idx2\n",
    "\n",
    "def insertion_sort(a, left, right):     # 원소의 개수가 9개 미만이면 삽입 정렬\n",
    "    for i in range(left + 1, right + 1):\n",
    "        for j in range(i, 0, -1):\n",
    "            if a[j - 1] > a[j]:\n",
    "                a[j], a[j - 1] = a[j - 1], a[j]\n",
    "\n",
    "def qsort(a, left, right) -> None:\n",
    "    \"\"\"a[left] ~ a[right]를 퀵 정렬\"\"\"\n",
    "    if right - left < 9:            # 원소 수가 9개 미만이면 단순 삽입 정렬을 호출\n",
    "        insertion_sort(a, left, right)\n",
    "    else:                           # 원소 수가 9개 이상이면 퀵 정렬을 수행\n",
    "        pl = left                   # 왼쪽 커서\n",
    "        pr = right                  # 오른쪽 커서\n",
    "        m = sort3(a, pl, (pl + pr) // 2, pr)    # 중앙 원소 index\n",
    "        x = a[m]    # pivot\n",
    "\n",
    "        a[m], a[pr - 1] = a[pr - 1], a[m]    # pivot과 마지막에서 두번째 원소 교환\n",
    "        pl += 1    # 스캔할 첫번째 원소\n",
    "        pr -= 2    # 스캔할 마지막 원소\n",
    "        \n",
    "        # 아래는 일반적인 quick sort와 동일\n",
    "        while pl <= pr:\n",
    "            while a[pl] < x: pl += 1\n",
    "            while a[pr] > x: pr -= 1\n",
    "            if pl <= pr:\n",
    "                a[pl], a[pr] = a[pr], a[pl]\n",
    "                pl += 1\n",
    "                pr -= 1\n",
    "\n",
    "        if left < pr: qsort(a, left, pr)\n",
    "        if pl < right: qsort(a, pl, right)\n",
    "\n",
    "def quick_sort(a):\n",
    "    qsort(a, 0, len(a) - 1)\n",
    "\n",
    "print('퀵 정렬을 합니다(원소 수가 9개 미만이면 단순 삽입 정렬).')\n",
    "num = int(input('원소 수를 입력하세요.: '))\n",
    "x = [None] * num    # 원소 수가 num인 배열을 생성\n",
    "\n",
    "for i in range(num):\n",
    "    x[i] = int(input(f'x[{i}]: '))\n",
    "\n",
    "quick_sort(x)       # 배열 x를 퀵 정렬\n",
    "\n",
    "print('오름차순으로 정렬했습니다.')\n",
    "for i in range(num):\n",
    "    print(f'x[{i}] = {x[i]}')     "
   ]
  }
 ],
 "metadata": {
  "kernelspec": {
   "display_name": "Python 3 (ipykernel)",
   "language": "python",
   "name": "python3"
  },
  "language_info": {
   "codemirror_mode": {
    "name": "ipython",
    "version": 3
   },
   "file_extension": ".py",
   "mimetype": "text/x-python",
   "name": "python",
   "nbconvert_exporter": "python",
   "pygments_lexer": "ipython3",
   "version": "3.10.3"
  }
 },
 "nbformat": 4,
 "nbformat_minor": 5
}
