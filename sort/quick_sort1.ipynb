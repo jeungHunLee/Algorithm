{
 "cells": [
  {
   "cell_type": "markdown",
   "id": "68adcdbf",
   "metadata": {},
   "source": [
    "## 퀵 정렬 알고리즘 구현하기"
   ]
  },
  {
   "cell_type": "code",
   "execution_count": 1,
   "id": "ecb34a43",
   "metadata": {},
   "outputs": [
    {
     "name": "stdout",
     "output_type": "stream",
     "text": [
      "퀵 정렬을 수행합니다.\n",
      "원소 수를 입력하세요9\n",
      "x[0]: 5\n",
      "x[1]: 8\n",
      "x[2]: 4\n",
      "x[3]: 2\n",
      "x[4]: 6\n",
      "x[5]: 1\n",
      "x[6]: 3\n",
      "x[7]: 9\n",
      "x[8]: 7\n",
      "오름차순으로 정렬했습니다.\n",
      "x[0]: 1\n",
      "x[1]: 2\n",
      "x[2]: 3\n",
      "x[3]: 4\n",
      "x[4]: 5\n",
      "x[5]: 6\n",
      "x[6]: 7\n",
      "x[7]: 8\n",
      "x[8]: 9\n"
     ]
    }
   ],
   "source": [
    "def qsort(a, left, right):\n",
    "    pl = left    # 왼쪽 커서\n",
    "    pr = right    # 오른쪽 커서\n",
    "    x = a[(left + right) // 2]    # pivot\n",
    "    \n",
    "    while pl <= pr:\n",
    "        while a[pl] < x:    # pivot보다 큰 값이 나올때까지 이동\n",
    "            pl += 1\n",
    "            \n",
    "        while a[pr] > x:    # pivot보다 작은 값이 나올때까지 이동\n",
    "            pr -= 1\n",
    "            \n",
    "        if pl <= pr:\n",
    "            a[pl], a[pr] = a[pr], a[pl]    # swap\n",
    "            pl += 1\n",
    "            pr -= 1\n",
    "            \n",
    "    if left < pr:    # index left ~ pr까지 분리된 그룹에서 sort\n",
    "        qsort(a, left, pr)\n",
    "            \n",
    "    if pl < right:    # # index pl ~ right까지 분리된 그룹에서 sort\n",
    "        qsort(a, pl, right)\n",
    "            \n",
    "def quick_sort(a):\n",
    "    qsort(a, 0, len(a) - 1)\n",
    "    \n",
    "print(\"퀵 정렬을 수행합니다.\")\n",
    "num = int(input(\"원소 수를 입력하세요\"))\n",
    "x = [0] * num\n",
    "\n",
    "for i in range(num):\n",
    "    x[i] = int(input(f'x[{i}]: '))\n",
    "                     \n",
    "quick_sort(x)\n",
    "                     \n",
    "print(\"오름차순으로 정렬했습니다.\")\n",
    "for i in range(num):\n",
    "    print(f'x[{i}]: {x[i]}')"
   ]
  }
 ],
 "metadata": {
  "kernelspec": {
   "display_name": "Python 3 (ipykernel)",
   "language": "python",
   "name": "python3"
  },
  "language_info": {
   "codemirror_mode": {
    "name": "ipython",
    "version": 3
   },
   "file_extension": ".py",
   "mimetype": "text/x-python",
   "name": "python",
   "nbconvert_exporter": "python",
   "pygments_lexer": "ipython3",
   "version": "3.10.3"
  }
 },
 "nbformat": 4,
 "nbformat_minor": 5
}
