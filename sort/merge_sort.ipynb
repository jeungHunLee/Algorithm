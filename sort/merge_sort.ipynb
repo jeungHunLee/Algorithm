{
 "cells": [
  {
   "cell_type": "markdown",
   "id": "a2da18bf",
   "metadata": {},
   "source": [
    "# 병합 정렬 알고리즘 구현하기"
   ]
  },
  {
   "cell_type": "code",
   "execution_count": 3,
   "id": "2b6dad95",
   "metadata": {},
   "outputs": [
    {
     "name": "stdout",
     "output_type": "stream",
     "text": [
      "병합 정렬을 수행합니다\n",
      "원소 수를 입력하세요.: 9\n",
      "x[0]: 5\n",
      "x[1]: 8\n",
      "x[2]: 4\n",
      "x[3]: 2\n",
      "x[4]: 6\n",
      "x[5]: 1\n",
      "x[6]: 3\n",
      "x[7]: 9\n",
      "x[8]: 7\n",
      "오름차순으로 정렬했습니다.\n",
      "x[0] = 1\n",
      "x[1] = 2\n",
      "x[2] = 3\n",
      "x[3] = 4\n",
      "x[4] = 5\n",
      "x[5] = 6\n",
      "x[6] = 7\n",
      "x[7] = 8\n",
      "x[8] = 9\n"
     ]
    }
   ],
   "source": [
    "def merge_sort(a, left, right):\n",
    "    center = (left + right) // 2\n",
    "\n",
    "    if left < right:\n",
    "        merge_sort(a, left, center)\n",
    "        merge_sort(a, center + 1, right)\n",
    "\n",
    "    buff = a[left:center + 1]\n",
    "    i = 0    # buff의 index\n",
    "    k = left    # a의 index\n",
    "    j = center + 1    # 뒷 부분의 index\n",
    "\n",
    "    while i < len(buff) and j <= right:\n",
    "        if buff[i] < a[j]:\n",
    "            a[k] = buff[i]\n",
    "            i += 1\n",
    "        else:\n",
    "            a[k] = a[j]\n",
    "            j += 1\n",
    "        k += 1\n",
    "\n",
    "    while i < len(buff):\n",
    "        a[k] = buff[i]\n",
    "        k += 1\n",
    "        i += 1\n",
    "    \n",
    "print('병합 정렬을 수행합니다')\n",
    "num = int(input('원소 수를 입력하세요.: '))\n",
    "x = [None] * num    # 원소 수가 num인 배열을 생성\n",
    "\n",
    "for i in range(num):\n",
    "    x[i] = int(input(f'x[{i}]: '))\n",
    "\n",
    "merge_sort(x)       # 배열 x를 병합 정렬\n",
    "\n",
    "print('오름차순으로 정렬했습니다.')\n",
    "for i in range(num):\n",
    "    print(f'x[{i}] = {x[i]}')"
   ]
  }
 ],
 "metadata": {
  "kernelspec": {
   "display_name": "Python 3 (ipykernel)",
   "language": "python",
   "name": "python3"
  },
  "language_info": {
   "codemirror_mode": {
    "name": "ipython",
    "version": 3
   },
   "file_extension": ".py",
   "mimetype": "text/x-python",
   "name": "python",
   "nbconvert_exporter": "python",
   "pygments_lexer": "ipython3",
   "version": "3.10.3"
  },
  "vscode": {
   "interpreter": {
    "hash": "aee8b7b246df8f9039afb4144a1f6fd8d2ca17a180786b69acc140d282b71a49"
   }
  }
 },
 "nbformat": 4,
 "nbformat_minor": 5
}
