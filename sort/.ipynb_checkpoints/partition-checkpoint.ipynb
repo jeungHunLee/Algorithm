{
 "cells": [
  {
   "cell_type": "markdown",
   "id": "d0c32ff9",
   "metadata": {},
   "source": [
    "## 배열을 두 그룹으로 나누기"
   ]
  },
  {
   "cell_type": "code",
   "execution_count": 6,
   "id": "bee7d4de",
   "metadata": {},
   "outputs": [
    {
     "name": "stdout",
     "output_type": "stream",
     "text": [
      "퀵 정렬을 수행합니다.\n",
      "원소 수를 입력하세요9\n",
      "x[0]: 1\n",
      "x[1]: 8\n",
      "x[2]: 7\n",
      "x[3]: 4\n",
      "x[4]: 5\n",
      "x[5]: 2\n",
      "x[6]: 6\n",
      "x[7]: 3\n",
      "x[8]: 9\n",
      "피벗은 5입니다.\n",
      "피벗 이하인 그룹입니다.\n",
      "1 3 2 4 5\n",
      "피벗과 일치하는 그룹입니다.\n",
      "5\n",
      "피벗 이상인 그룹입니다.\n",
      "5 7 6 8 9\n"
     ]
    }
   ],
   "source": [
    "def partition(a):\n",
    "    n = len(a)\n",
    "    pl = 0    # 왼쪽 커서\n",
    "    pr = n - 1    # 오른쪽 커서\n",
    "    x = a[n // 2]    # pivot\n",
    "    \n",
    "    while pl <= pr:\n",
    "        while a[pl] < x:    # pivot보다 크거나 같은 값이 나올때까지 이동\n",
    "            pl += 1\n",
    "            \n",
    "        while a[pr] > x:    # pivot보다 작거나 같은 값이 나올때까지 이동\n",
    "            pr -= 1\n",
    "            \n",
    "        if pl <= pr:    # pivot으로부터 오른쪽에 작은 값이 있고, 왼쪽에 큰 값이 있을 경우 swap  \n",
    "            a[pl], a[pr] = a[pr], a[pl]    # swap\n",
    "            pl += 1    # 우로 이동\n",
    "            pr -= 1    # 좌로 이동\n",
    "            \n",
    "    print(f'피벗은 {x}입니다.')\n",
    "    \n",
    "    print(f'피벗 이하인 그룹입니다.')\n",
    "    print(*a[0: pl])\n",
    "    \n",
    "    if pl > pr + 1:\n",
    "        print(\"피벗과 일치하는 그룹입니다.\")\n",
    "        print(*a[pr + 1: pl])\n",
    "        \n",
    "    print('피벗 이상인 그룹입니다.')\n",
    "    print(*a[pr + 1:])\n",
    "    \n",
    "\n",
    "print(\"퀵 정렬을 수행합니다.\")\n",
    "num = int(input(\"원소 수를 입력하세요\"))\n",
    "x = [0] * num\n",
    "\n",
    "for i in range(num):\n",
    "    x[i] = int(input(f'x[{i}]: '))\n",
    "                     \n",
    "partition(x)"
   ]
  }
 ],
 "metadata": {
  "kernelspec": {
   "display_name": "Python 3 (ipykernel)",
   "language": "python",
   "name": "python3"
  },
  "language_info": {
   "codemirror_mode": {
    "name": "ipython",
    "version": 3
   },
   "file_extension": ".py",
   "mimetype": "text/x-python",
   "name": "python",
   "nbconvert_exporter": "python",
   "pygments_lexer": "ipython3",
   "version": "3.10.3"
  }
 },
 "nbformat": 4,
 "nbformat_minor": 5
}
