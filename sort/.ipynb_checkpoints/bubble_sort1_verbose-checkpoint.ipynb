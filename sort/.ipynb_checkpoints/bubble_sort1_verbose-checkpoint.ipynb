{
 "cells": [
  {
   "cell_type": "markdown",
   "id": "e26d15b6",
   "metadata": {},
   "source": [
    "## 실습 6-2 버블 정렬 알고리즘 구현하기 (정렬 과정 출력)"
   ]
  },
  {
   "cell_type": "code",
   "execution_count": 1,
   "id": "dea90e9a",
   "metadata": {},
   "outputs": [
    {
     "name": "stdout",
     "output_type": "stream",
     "text": [
      "버블 정렬을 수행합니다.\n",
      "원소 수를 입력하세요7\n",
      "x[0]: 1\n",
      "x[1]: 3\n",
      "x[2]: 9\n",
      "x[3]: 4\n",
      "x[4]: 7\n",
      "x[5]: 8\n",
      "x[6]: 6\n",
      "패스 1\n",
      " 1   3   9   4   7   8 + 6\n",
      " 1   3   9   4   7 + 6   8\n",
      " 1   3   9   4 - 6   7   8\n",
      " 1   3   9 + 4   6   7   8\n",
      " 1   3 - 4   9   6   7   8\n",
      " 1 - 3   4   9   6   7   8\n",
      " 1   3   4   9   6   7   8\n",
      "패스 2\n",
      " 1   3   4   9   6   7 - 8\n",
      " 1   3   4   9   6 - 7   8\n",
      " 1   3   4   9 + 6   7   8\n",
      " 1   3   4 - 6   9   7   8\n",
      " 1   3 - 4   6   9   7   8\n",
      " 1   3   4   6   9   7   8\n",
      "패스 3\n",
      " 1   3   4   6   9   7 - 8\n",
      " 1   3   4   6   9 + 7   8\n",
      " 1   3   4   6 - 7   9   8\n",
      " 1   3   4 - 6   7   9   8\n",
      " 1   3   4   6   7   9   8\n",
      "패스 4\n",
      " 1   3   4   6   7   9 + 8\n",
      " 1   3   4   6   7 - 8   9\n",
      " 1   3   4   6 - 7   8   9\n",
      " 1   3   4   6   7   8   9\n",
      "패스 5\n",
      " 1   3   4   6   7   8 - 9\n",
      " 1   3   4   6   7 - 8   9\n",
      " 1   3   4   6   7   8   9\n",
      "패스 6\n",
      " 1   3   4   6   7   8 - 9\n",
      " 1   3   4   6   7   8   9\n",
      "비교를 21번 했습니다.\n",
      "교환을 6번 했습니다.\n",
      "오름차순으로 정렬했습니다.\n",
      "x[0]: 1\n",
      "x[1]: 3\n",
      "x[2]: 4\n",
      "x[3]: 6\n",
      "x[4]: 7\n",
      "x[5]: 8\n",
      "x[6]: 9\n"
     ]
    }
   ],
   "source": [
    "def bubble_sort_verbose(a):\n",
    "    ccnt = 0    # comparsion count\n",
    "    scnt = 0    # swap count\n",
    "    n = len(a)\n",
    "    for i in range(n - 1):\n",
    "        print(f'패스 {i + 1}')\n",
    "        for j in range(n - 1, i, -1):\n",
    "            for m in range(n - 1):\n",
    "                print(f'{a[m]:2}' + ('  ' if m != j - 1 else ' +' if a[j - 1] > a[j] else ' -'), end='')\n",
    "            print(f'{a[n - 1]:2}')\n",
    "            ccnt += 1    # comparsion count + 1\n",
    "            \n",
    "            if a[j - 1] > a[j]:\n",
    "                a[j - 1], a[j] = a[j], a[j - 1]   # 앞에 위치한 요소가 더 클 경우 swap\n",
    "                scnt += 1    # swap count + 1\n",
    "                \n",
    "        for m in range(n - 1):\n",
    "            print(f'{a[m]:2}', end='  ')\n",
    "        print(f'{a[n - 1]:2}')\n",
    "            \n",
    "    print(f'비교를 {ccnt}번 했습니다.')\n",
    "    print(f'교환을 {scnt}번 했습니다.')\n",
    "    \n",
    "print(\"버블 정렬을 수행합니다.\")\n",
    "num = int(input(\"원소 수를 입력하세요\"))\n",
    "x = [0] * num\n",
    "\n",
    "for i in range(num):\n",
    "    x[i] = int(input(f'x[{i}]: '))\n",
    "                     \n",
    "bubble_sort_verbose(x)\n",
    "                     \n",
    "print(\"오름차순으로 정렬했습니다.\")\n",
    "for i in range(num):\n",
    "    print(f'x[{i}]: {x[i]}')"
   ]
  }
 ],
 "metadata": {
  "kernelspec": {
   "display_name": "Python 3 (ipykernel)",
   "language": "python",
   "name": "python3"
  },
  "language_info": {
   "codemirror_mode": {
    "name": "ipython",
    "version": 3
   },
   "file_extension": ".py",
   "mimetype": "text/x-python",
   "name": "python",
   "nbconvert_exporter": "python",
   "pygments_lexer": "ipython3",
   "version": "3.10.3"
  }
 },
 "nbformat": 4,
 "nbformat_minor": 5
}
