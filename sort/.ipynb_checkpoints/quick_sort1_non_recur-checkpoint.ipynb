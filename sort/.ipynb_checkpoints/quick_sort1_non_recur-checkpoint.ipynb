{
 "cells": [
  {
   "cell_type": "markdown",
   "id": "4198fdbb",
   "metadata": {},
   "source": [
    "## 비재귀적인 퀵 정렬 구현하기"
   ]
  },
  {
   "cell_type": "code",
   "execution_count": 8,
   "id": "b4e53cd3",
   "metadata": {},
   "outputs": [
    {
     "name": "stdout",
     "output_type": "stream",
     "text": [
      "퀵 정렬을 수행합니다.\n",
      "원소 수를 입력하세요9\n",
      "x[0]: 5\n",
      "x[1]: 8\n",
      "x[2]: 4\n",
      "x[3]: 2\n",
      "x[4]: 6\n",
      "x[5]: 1\n",
      "x[6]: 3\n",
      "x[7]: 9\n",
      "x[8]: 7\n",
      "오름차순으로 정렬했습니다.\n",
      "x[0]: 1\n",
      "x[1]: 2\n",
      "x[2]: 3\n",
      "x[3]: 4\n",
      "x[4]: 5\n",
      "x[5]: 6\n",
      "x[6]: 7\n",
      "x[7]: 8\n",
      "x[8]: 9\n"
     ]
    }
   ],
   "source": [
    "import import_ipynb\n",
    "from stack import Stack\n",
    "\n",
    "def qsort(a, left, right):\n",
    "    range = Stack(right - left + 1)\n",
    "    '''\n",
    "    stack은 나눌 범위에서 맨 앞 원소의 인덱스와 맨 끝 원소의 인덱스의 튜플 형태\n",
    "    a 배열 크기 많큼 stack 생성\n",
    "    '''\n",
    "    \n",
    "    range.push((left, right))\n",
    "    \n",
    "    while not range.is_empty():\n",
    "        pl, pr = left, right = range.pop()\n",
    "        x = a[(left + right) // 2]    # pivot\n",
    "        \n",
    "        while pl <= pr:\n",
    "            while a[pl] < x: pl += 1\n",
    "            while a[pr] > x: pr -= 1\n",
    "                \n",
    "            if pl <= pr:\n",
    "                a[pl], a[pr] = a[pr], a[pl]\n",
    "                pl += 1\n",
    "                pr -= 1\n",
    "        if left < pr: range.push((left, pr))    # 왼쪽 그룹 stack에 저장\n",
    "        if pl < right: range.push((pl, right))    # 오른쪽 그룹 stack에 저장\n",
    "            \n",
    "print(\"퀵 정렬을 수행합니다.\")\n",
    "num = int(input(\"원소 수를 입력하세요\"))\n",
    "x = [0] * num\n",
    "\n",
    "for i in range(num):\n",
    "    x[i] = int(input(f'x[{i}]: '))\n",
    "                     \n",
    "qsort(x, 0, len(x) - 1)\n",
    "                     \n",
    "print(\"오름차순으로 정렬했습니다.\")\n",
    "for i in range(num):\n",
    "    print(f'x[{i}]: {x[i]}')"
   ]
  }
 ],
 "metadata": {
  "kernelspec": {
   "display_name": "Python 3 (ipykernel)",
   "language": "python",
   "name": "python3"
  },
  "language_info": {
   "codemirror_mode": {
    "name": "ipython",
    "version": 3
   },
   "file_extension": ".py",
   "mimetype": "text/x-python",
   "name": "python",
   "nbconvert_exporter": "python",
   "pygments_lexer": "ipython3",
   "version": "3.10.3"
  }
 },
 "nbformat": 4,
 "nbformat_minor": 5
}
