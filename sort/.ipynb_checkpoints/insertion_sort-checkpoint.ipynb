{
 "cells": [
  {
   "cell_type": "markdown",
   "id": "6a6058ef",
   "metadata": {},
   "source": [
    "## 실습 6-7 단순 삽입 정렬 알고리즘 구현하기"
   ]
  },
  {
   "cell_type": "code",
   "execution_count": 11,
   "id": "173cf1e5",
   "metadata": {},
   "outputs": [
    {
     "name": "stdout",
     "output_type": "stream",
     "text": [
      "단순 삽입 정렬을 수행합니다.\n",
      "원소 수를 입력하세요7\n",
      "x[0]: 1\n",
      "x[1]: 4\n",
      "x[2]: 6\n",
      "x[3]: 7\n",
      "x[4]: 3\n",
      "x[5]: 9\n",
      "x[6]: 8\n",
      "오름차순으로 정렬했습니다.\n",
      "x[0]: 1\n",
      "x[1]: 3\n",
      "x[2]: 4\n",
      "x[3]: 6\n",
      "x[4]: 7\n",
      "x[5]: 8\n",
      "x[6]: 9\n"
     ]
    }
   ],
   "source": [
    "def insertion_sort(a):\n",
    "    n = len(a)\n",
    "    for i in range(1, n):    # 0번 index는 정렬 되어 있다고 가정\n",
    "        tmp = a[i]\n",
    "        for j in range(i, 0, -1):\n",
    "            if a[j - 1] > tmp:\n",
    "                a[j] = a[j - 1]\n",
    "            else:    # tmp 보다 작거나 같은 값을 만나면 종료\n",
    "                a[j] = tmp\n",
    "                break\n",
    "                \n",
    "            if j == 1:\n",
    "                a[0] = tmp\n",
    "\n",
    "print(\"단순 삽입 정렬을 수행합니다.\")\n",
    "num = int(input(\"원소 수를 입력하세요\"))\n",
    "x = [0] * num\n",
    "\n",
    "for i in range(num):\n",
    "    x[i] = int(input(f'x[{i}]: '))\n",
    "                     \n",
    "insertion_sort(x)\n",
    "                     \n",
    "print(\"오름차순으로 정렬했습니다.\")\n",
    "for i in range(num):\n",
    "    print(f'x[{i}]: {x[i]}')"
   ]
  },
  {
   "cell_type": "code",
   "execution_count": 12,
   "id": "5af4704e",
   "metadata": {},
   "outputs": [
    {
     "name": "stdout",
     "output_type": "stream",
     "text": [
      "단순 삽입 정렬을 수행합니다.\n",
      "원소 수를 입력하세요7\n",
      "x[0]: 1\n",
      "x[1]: 4\n",
      "x[2]: 6\n",
      "x[3]: 7\n",
      "x[4]: 3\n",
      "x[5]: 9\n",
      "x[6]: 8\n",
      "오름차순으로 정렬했습니다.\n",
      "x[0]: 1\n",
      "x[1]: 3\n",
      "x[2]: 4\n",
      "x[3]: 6\n",
      "x[4]: 7\n",
      "x[5]: 8\n",
      "x[6]: 9\n"
     ]
    }
   ],
   "source": [
    "def insertion_sort(a):\n",
    "    n = len(a)\n",
    "    for i in range(1, n):    # 0번 index는 정렬 되어 있다고 가정\n",
    "        for j in range(i, 0, -1):\n",
    "            if a[j] < a[j - 1]:\n",
    "                a[j - 1], a[j] = a[j], a[j - 1]   # 위치 교환\n",
    "            else:    # 자신 보다 작은 원소를 만나면 정렬 완료\n",
    "                break\n",
    "\n",
    "print(\"단순 삽입 정렬을 수행합니다.\")\n",
    "num = int(input(\"원소 수를 입력하세요\"))\n",
    "x = [0] * num\n",
    "\n",
    "for i in range(num):\n",
    "    x[i] = int(input(f'x[{i}]: '))\n",
    "                     \n",
    "insertion_sort(x)\n",
    "                     \n",
    "print(\"오름차순으로 정렬했습니다.\")\n",
    "for i in range(num):\n",
    "    print(f'x[{i}]: {x[i]}')"
   ]
  },
  {
   "cell_type": "code",
   "execution_count": 10,
   "id": "f50602e4",
   "metadata": {},
   "outputs": [
    {
     "name": "stdout",
     "output_type": "stream",
     "text": [
      "단순 삽입 정렬을 수행합니다.\n",
      "원소 수를 입력하세요7\n",
      "x[0]: 1\n",
      "x[1]: 4\n",
      "x[2]: 6\n",
      "x[3]: 7\n",
      "x[4]: 3\n",
      "x[5]: 9\n",
      "x[6]: 8\n",
      "오름차순으로 정렬했습니다.\n",
      "x[0]: 1\n",
      "x[1]: 3\n",
      "x[2]: 4\n",
      "x[3]: 6\n",
      "x[4]: 7\n",
      "x[5]: 8\n",
      "x[6]: 9\n"
     ]
    }
   ],
   "source": [
    "def insertion_sort(a):\n",
    "    n = len(a)\n",
    "    for i in range(1, n):    # 0번 index는 정렬 되어 있다고 가정\n",
    "        tmp = a[i]\n",
    "        j = i\n",
    "        while j > 0 and a[j - 1] > tmp:\n",
    "            a[j] = a[j - 1]\n",
    "            j -= 1\n",
    "        a[j] = tmp    # while 문의 조건을 만족하지 않는 index에 tmp 삽입\n",
    "\n",
    "print(\"단순 삽입 정렬을 수행합니다.\")\n",
    "num = int(input(\"원소 수를 입력하세요\"))\n",
    "x = [0] * num\n",
    "\n",
    "for i in range(num):\n",
    "    x[i] = int(input(f'x[{i}]: '))\n",
    "                     \n",
    "insertion_sort(x)\n",
    "                     \n",
    "print(\"오름차순으로 정렬했습니다.\")\n",
    "for i in range(num):\n",
    "    print(f'x[{i}]: {x[i]}')"
   ]
  }
 ],
 "metadata": {
  "kernelspec": {
   "display_name": "Python 3 (ipykernel)",
   "language": "python",
   "name": "python3"
  },
  "language_info": {
   "codemirror_mode": {
    "name": "ipython",
    "version": 3
   },
   "file_extension": ".py",
   "mimetype": "text/x-python",
   "name": "python",
   "nbconvert_exporter": "python",
   "pygments_lexer": "ipython3",
   "version": "3.10.3"
  }
 },
 "nbformat": 4,
 "nbformat_minor": 5
}
