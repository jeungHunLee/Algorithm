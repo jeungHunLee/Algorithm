{
 "cells": [
  {
   "cell_type": "markdown",
   "id": "a2da18bf",
   "metadata": {},
   "source": [
    "# 병합 정렬 알고리즘 구현하기"
   ]
  },
  {
   "cell_type": "code",
   "execution_count": 3,
   "id": "2b6dad95",
   "metadata": {},
   "outputs": [
    {
     "name": "stdout",
     "output_type": "stream",
     "text": [
      "병합 정렬을 수행합니다\n",
      "원소 수를 입력하세요.: 9\n",
      "x[0]: 5\n",
      "x[1]: 8\n",
      "x[2]: 4\n",
      "x[3]: 2\n",
      "x[4]: 6\n",
      "x[5]: 1\n",
      "x[6]: 3\n",
      "x[7]: 9\n",
      "x[8]: 7\n",
      "오름차순으로 정렬했습니다.\n",
      "x[0] = 1\n",
      "x[1] = 2\n",
      "x[2] = 3\n",
      "x[3] = 4\n",
      "x[4] = 5\n",
      "x[5] = 6\n",
      "x[6] = 7\n",
      "x[7] = 8\n",
      "x[8] = 9\n"
     ]
    }
   ],
   "source": [
    "def merge_sort(a):\n",
    "    \n",
    "    def _merge_sort(a, left, right):\n",
    "        if left < right:\n",
    "            center = (left + right) // 2\n",
    "            \n",
    "            _merge_sort(a, left, center)    # 앞 부분 정렬\n",
    "            _merge_sort(a, center + 1, right)    # 뒷 부분 정렬\n",
    "            \n",
    "            p = j = 0       # p: buff의 시작 index\n",
    "            i = k = left    # 병합 정렬할 첫번째 index\n",
    "            \n",
    "            while i <= center:    # a의 첫번째 원소부터 중앙 원소까지 buff에 저장\n",
    "                buff[p] = a[i]\n",
    "                p += 1\n",
    "                i += 1\n",
    "                \n",
    "            # 위의 while문을 마친 뒤 i == p == center + 1\n",
    "            while i <= right and j < p:    # buff[:center + 1]의 원소와 a[center + 1:]의 원소를 비교하여 더 작은 값부터 a의 앞쪽에 저장\n",
    "                if buff[j] <= a[i]:\n",
    "                    a[k] = buff[j]\n",
    "                    j += 1\n",
    "                else:\n",
    "                    a[k] = a[i]\n",
    "                    i += 1\n",
    "                    \n",
    "                k += 1\n",
    "            \n",
    "            # 위의 while문에서 i <= right에 의하여 종료될 경우 buff의 나머지 값을 a에 저장\n",
    "            # j < p에 의하여 종료된 a는 정렬된 상태\n",
    "            while j < p:\n",
    "                a[k] = buff[j]\n",
    "                k += 1\n",
    "                j += 1\n",
    "                \n",
    "    n = len(a)\n",
    "    buff = [None] * n    # 임시 저장할 리스트\n",
    "    _merge_sort(a, 0, n - 1)    # 정렬 시작\n",
    "    del buff    # 정렬 종료 후 buff 삭제\n",
    "    \n",
    "print('병합 정렬을 수행합니다')\n",
    "num = int(input('원소 수를 입력하세요.: '))\n",
    "x = [None] * num    # 원소 수가 num인 배열을 생성\n",
    "\n",
    "for i in range(num):\n",
    "    x[i] = int(input(f'x[{i}]: '))\n",
    "\n",
    "merge_sort(x)       # 배열 x를 병합 정렬\n",
    "\n",
    "print('오름차순으로 정렬했습니다.')\n",
    "for i in range(num):\n",
    "    print(f'x[{i}] = {x[i]}')"
   ]
  }
 ],
 "metadata": {
  "kernelspec": {
   "display_name": "Python 3 (ipykernel)",
   "language": "python",
   "name": "python3"
  },
  "language_info": {
   "codemirror_mode": {
    "name": "ipython",
    "version": 3
   },
   "file_extension": ".py",
   "mimetype": "text/x-python",
   "name": "python",
   "nbconvert_exporter": "python",
   "pygments_lexer": "ipython3",
   "version": "3.10.3"
  },
  "vscode": {
   "interpreter": {
    "hash": "aee8b7b246df8f9039afb4144a1f6fd8d2ca17a180786b69acc140d282b71a49"
   }
  }
 },
 "nbformat": 4,
 "nbformat_minor": 5
}
