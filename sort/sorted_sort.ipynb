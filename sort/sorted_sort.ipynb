{
 "cells": [
  {
   "cell_type": "markdown",
   "id": "9188c3a5",
   "metadata": {},
   "source": [
    "## sorted() 함수를 사용하여 정렬하기"
   ]
  },
  {
   "cell_type": "code",
   "execution_count": 1,
   "id": "a5111016",
   "metadata": {},
   "outputs": [
    {
     "name": "stdout",
     "output_type": "stream",
     "text": [
      "sorted() 함수를 사용하여 정렬합니다.\n",
      "원소 수를 입력하세요.: 9\n",
      "x[0]: 1\n",
      "x[1]: 8\n",
      "x[2]: 7\n",
      "x[3]: 4\n",
      "x[4]: 5\n",
      "x[5]: 2\n",
      "x[6]: 6\n",
      "x[7]: 3\n",
      "x[8]: 9\n",
      "오름차순으로 정렬했습니다.\n",
      "x[0] = 1\n",
      "x[1] = 2\n",
      "x[2] = 3\n",
      "x[3] = 4\n",
      "x[4] = 5\n",
      "x[5] = 6\n",
      "x[6] = 7\n",
      "x[7] = 8\n",
      "x[8] = 9\n",
      "내림차순으로 정렬했습니다.\n",
      "x[0] = 9\n",
      "x[1] = 8\n",
      "x[2] = 7\n",
      "x[3] = 6\n",
      "x[4] = 5\n",
      "x[5] = 4\n",
      "x[6] = 3\n",
      "x[7] = 2\n",
      "x[8] = 1\n"
     ]
    }
   ],
   "source": [
    "print('sorted() 함수를 사용하여 정렬합니다.')\n",
    "num = int(input('원소 수를 입력하세요.: '))\n",
    "x = [None] * num    # 원소 수가 num인 배열을 생성\n",
    "\n",
    "for i in range(num):\n",
    "    x[i] = int(input(f'x[{i}]: '))\n",
    "\n",
    "x = sorted(x)    # 오름차순 정렬\n",
    "print('오름차순으로 정렬했습니다.')\n",
    "for i in range(num):\n",
    "    print(f'x[{i}] = {x[i]}')\n",
    "\n",
    "x = sorted(x, key=lambda x: -x)    # 내림차순 key는 원소에 -값을 곱합 값 기준\n",
    "print('내림차순으로 정렬했습니다.')\n",
    "for i in range(num):\n",
    "    print(f'x[{i}] = {x[i]}')\n"
   ]
  }
 ],
 "metadata": {
  "kernelspec": {
   "display_name": "Python 3 (ipykernel)",
   "language": "python",
   "name": "python3"
  },
  "language_info": {
   "codemirror_mode": {
    "name": "ipython",
    "version": 3
   },
   "file_extension": ".py",
   "mimetype": "text/x-python",
   "name": "python",
   "nbconvert_exporter": "python",
   "pygments_lexer": "ipython3",
   "version": "3.10.3"
  }
 },
 "nbformat": 4,
 "nbformat_minor": 5
}
