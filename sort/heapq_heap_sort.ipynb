{
 "cells": [
  {
   "cell_type": "markdown",
   "id": "2f1f3899",
   "metadata": {},
   "source": [
    "## heap 정렬 알고리즘 구현(heapq 모듈 사용)"
   ]
  },
  {
   "cell_type": "code",
   "execution_count": 3,
   "id": "11606e9f",
   "metadata": {},
   "outputs": [
    {
     "name": "stdout",
     "output_type": "stream",
     "text": [
      "힙 정렬을 수행합니다.\n",
      "원소 수를 입력하세요. : 10\n",
      "x[0] : 10\n",
      "x[1] : 9\n",
      "x[2] : 5\n",
      "x[3] : 8\n",
      "x[4] : 3\n",
      "x[5] : 2\n",
      "x[6] : 4\n",
      "x[7] : 6\n",
      "x[8] : 7\n",
      "x[9] : 1\n",
      "오름차순으로 정렬했습니다.\n",
      "x[0] = 1\n",
      "x[1] = 2\n",
      "x[2] = 3\n",
      "x[3] = 4\n",
      "x[4] = 5\n",
      "x[5] = 6\n",
      "x[6] = 7\n",
      "x[7] = 8\n",
      "x[8] = 9\n",
      "x[9] = 10\n"
     ]
    }
   ],
   "source": [
    "import heapq\n",
    "\n",
    "print('힙 정렬을 수행합니다.')\n",
    "num = int(input('원소 수를 입력하세요. : '))\n",
    "x = []\n",
    "\n",
    "for i in range(num):\n",
    "    heapq.heappush(x, int(input(f'x[{i}] : ')))    # heap의 성질을 유지한채 리스트에 추가\n",
    "\n",
    "print('오름차순으로 정렬했습니다.')\n",
    "for i in range(num):\n",
    "    print(f'x[{i}] = {heapq.heappop(x)}')    # 루트 노드를 pop하고 나머지 원소에 대하여 heap 정렬"
   ]
  }
 ],
 "metadata": {
  "kernelspec": {
   "display_name": "Python 3.10.3 64-bit",
   "language": "python",
   "name": "python3"
  },
  "language_info": {
   "codemirror_mode": {
    "name": "ipython",
    "version": 3
   },
   "file_extension": ".py",
   "mimetype": "text/x-python",
   "name": "python",
   "nbconvert_exporter": "python",
   "pygments_lexer": "ipython3",
   "version": "3.10.3"
  },
  "vscode": {
   "interpreter": {
    "hash": "aee8b7b246df8f9039afb4144a1f6fd8d2ca17a180786b69acc140d282b71a49"
   }
  }
 },
 "nbformat": 4,
 "nbformat_minor": 5
}
