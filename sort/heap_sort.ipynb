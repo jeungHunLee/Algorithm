{
 "cells": [
  {
   "cell_type": "markdown",
   "id": "0512cf5b",
   "metadata": {},
   "source": [
    "## heap 정렬 알고리즘 구현하기"
   ]
  },
  {
   "cell_type": "code",
   "execution_count": 1,
   "id": "90f4205c",
   "metadata": {},
   "outputs": [
    {
     "name": "stdout",
     "output_type": "stream",
     "text": [
      "힙 정렬을 수행합니다.\n",
      "원소 수를 입력하세요. : 10\n",
      "x[0] : 10\n",
      "x[1] : 9\n",
      "x[2] : 5\n",
      "x[3] : 8\n",
      "x[4] : 3\n",
      "x[5] : 2\n",
      "x[6] : 4\n",
      "x[7] : 6\n",
      "x[8] : 7\n",
      "x[9] : 1\n",
      "오름차순으로 정렬했습니다.\n",
      "x[0] = 1\n",
      "x[1] = 2\n",
      "x[2] = 3\n",
      "x[3] = 4\n",
      "x[4] = 5\n",
      "x[5] = 6\n",
      "x[6] = 7\n",
      "x[7] = 8\n",
      "x[8] = 9\n",
      "x[9] = 10\n"
     ]
    }
   ],
   "source": [
    "def heapify(a, start, last):\n",
    "    parent = start    # 부모 노드\n",
    "    left = start * 2 + 1    # 왼쪽 자식 노드\n",
    "    right = start * 2 + 2    # 오른쪽 자식 노드\n",
    "\n",
    "    if left <= last and a[left] > a[parent]:\n",
    "        parent = left    # 부모 노드와 왼쪽 자식 노드 중 더 큰 값을 선택\n",
    "\n",
    "    if right <= last and a[right] > a[parent]:\n",
    "        parent = right    # 부노 모느와 오른쪽 자식 노드 중 더 큰 값을 선택\n",
    "\n",
    "    if parent != start:    # 부모 노드가 변경 되었다면\n",
    "        a[parent], a[start] = a[start], a[parent]    # swap\n",
    "        heapify(a, parent, last)\n",
    "\n",
    "def heap_sort(a):\n",
    "    n = len(a)\n",
    "    for i in range(n // 2 - 1, -1, -1):    # heap으로 만들기\n",
    "        heapify(a, i, n - 1)\n",
    "\n",
    "    for i in range(n - 1, 0, -1):    # root 노드 pop하고 나머지 노드에 대하여 heapify\n",
    "        a[0], a[i] = a[i], a[0]\n",
    "        heapify(a, 0, i - 1)\n",
    "        \n",
    "print('힙 정렬을 수행합니다.')\n",
    "num = int(input('원소 수를 입력하세요. : '))\n",
    "x = [None] * num    # 원소 수가 num인 배열을 생성\n",
    "\n",
    "for i in range(num):\n",
    "    x[i] = int(input(f'x[{i}] : '))\n",
    "\n",
    "heap_sort(x)        # 배열 x를 힙 정렬\n",
    "\n",
    "print('오름차순으로 정렬했습니다.')\n",
    "for i in range(num):\n",
    "    print(f'x[{i}] = {x[i]}')\n"
   ]
  }
 ],
 "metadata": {
  "kernelspec": {
   "display_name": "Python 3 (ipykernel)",
   "language": "python",
   "name": "python3"
  },
  "language_info": {
   "codemirror_mode": {
    "name": "ipython",
    "version": 3
   },
   "file_extension": ".py",
   "mimetype": "text/x-python",
   "name": "python",
   "nbconvert_exporter": "python",
   "pygments_lexer": "ipython3",
   "version": "3.10.3"
  }
 },
 "nbformat": 4,
 "nbformat_minor": 5
}
