{
 "cells": [
  {
   "cell_type": "markdown",
   "id": "0512cf5b",
   "metadata": {},
   "source": [
    "## heap 정렬 알고리즘 구현하기"
   ]
  },
  {
   "cell_type": "code",
   "execution_count": 1,
   "id": "90f4205c",
   "metadata": {},
   "outputs": [
    {
     "name": "stdout",
     "output_type": "stream",
     "text": [
      "힙 정렬을 수행합니다.\n",
      "원소 수를 입력하세요. : 10\n",
      "x[0] : 10\n",
      "x[1] : 9\n",
      "x[2] : 5\n",
      "x[3] : 8\n",
      "x[4] : 3\n",
      "x[5] : 2\n",
      "x[6] : 4\n",
      "x[7] : 6\n",
      "x[8] : 7\n",
      "x[9] : 1\n",
      "오름차순으로 정렬했습니다.\n",
      "x[0] = 1\n",
      "x[1] = 2\n",
      "x[2] = 3\n",
      "x[3] = 4\n",
      "x[4] = 5\n",
      "x[5] = 6\n",
      "x[6] = 7\n",
      "x[7] = 8\n",
      "x[8] = 9\n",
      "x[9] = 10\n"
     ]
    }
   ],
   "source": [
    "def heap_sort(a):\n",
    "    \n",
    "    def down_heap(a, left, right):    # right: 마지막 index\n",
    "        temp = a[left]    # 루트 노드\n",
    "        \n",
    "        parent = left    # 루트 노드 index\n",
    "        while parent < (right + 1) // 2:    # 루트 노드로 지정할 수 있는 index는 (right + 1) // 2 보다 작은 구간에 위치\n",
    "            cl = parent * 2 + 1    # 왼쪽 자식 노드\n",
    "            cr = parent * 2 + 2    # 오른쪽 자식 노드\n",
    "            child = cr if cr <= right and a[cl] < a[cr] else cl\n",
    "            if temp >= a[child]: break    # heap 상태이면 종료\n",
    "            a[parent] = a[child]    # 자식 노드의 idex가 범위 안에 존재하고 둘 중 더 큰 값을 루트 노드와 교환\n",
    "            parent = child\n",
    "        a[parent] = temp    # 자식 노드에 더 작은 값 대입\n",
    "        \n",
    "    n = len(a)\n",
    "    \n",
    "    for i in range((n - 1) // 2, -1, -1):\n",
    "        down_heap(a, i, n - 1)    # 아래에 있는 노드부터 위쪽으로, 오른쪽에서 왼쪽으로 정렬(complete binary tree 순서 역순)\n",
    "        \n",
    "    for i in range(n - 1, 0, -1):\n",
    "        a[0], a[i] = a[i], a[0]    # 0번(루트 노드)를 pop(마지막 index와 swap)\n",
    "        down_heap(a, 0, i - 1)    # 나머지 노드 heap 정렬\n",
    "        \n",
    "print('힙 정렬을 수행합니다.')\n",
    "num = int(input('원소 수를 입력하세요. : '))\n",
    "x = [None] * num    # 원소 수가 num인 배열을 생성\n",
    "\n",
    "for i in range(num):\n",
    "    x[i] = int(input(f'x[{i}] : '))\n",
    "\n",
    "heap_sort(x)        # 배열 x를 힙 정렬\n",
    "\n",
    "print('오름차순으로 정렬했습니다.')\n",
    "for i in range(num):\n",
    "    print(f'x[{i}] = {x[i]}')\n"
   ]
  }
 ],
 "metadata": {
  "kernelspec": {
   "display_name": "Python 3 (ipykernel)",
   "language": "python",
   "name": "python3"
  },
  "language_info": {
   "codemirror_mode": {
    "name": "ipython",
    "version": 3
   },
   "file_extension": ".py",
   "mimetype": "text/x-python",
   "name": "python",
   "nbconvert_exporter": "python",
   "pygments_lexer": "ipython3",
   "version": "3.10.3"
  }
 },
 "nbformat": 4,
 "nbformat_minor": 5
}
