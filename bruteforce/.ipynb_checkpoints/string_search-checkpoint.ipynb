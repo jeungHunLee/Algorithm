{
 "cells": [
  {
   "cell_type": "code",
   "execution_count": 1,
   "metadata": {},
   "outputs": [
    {
     "name": "stdout",
     "output_type": "stream",
     "text": [
      "텍스트를 입력하세요.: ABABCDEFGHA\n",
      "패턴을 입력하세요.: ABC\n",
      "index: 2 위치부터 일치합니다.\n"
     ]
    }
   ],
   "source": [
    "# 브루트 포스법 (문자열 검색)\n",
    "\n",
    "def bf_match(txt, pat):\n",
    "    pt = 0    # txt의 index\n",
    "    pp = 0    # pat의 index\n",
    "\n",
    "    while pt != len(txt) and pp != len(pat):\n",
    "        if txt[pt] == pat[pp]:\n",
    "            pt += 1\n",
    "            pp += 1\n",
    "        else:\n",
    "            pt = pt - pp + 1\n",
    "            pp = 0\n",
    "            '''\n",
    "            0번째에서 다르면 pt는 1만큼 이동 후 다시 탐색\n",
    "            1번째에서 다르면 pt는 그 위치부터 다시 탐색\n",
    "            2번째에서 다르면 pt는 앞으로 한 칸 이동하여 다시 탐색\n",
    "            ...\n",
    "            따라서 pt - pp + 1\n",
    "            '''\n",
    "    return pt - pp if pp == len(pat) else -1    # 문자열이 일치할 경우 pt - pp index부터 일치\n",
    "\n",
    "s1 = input(\"텍스트를 입력하세요.: \")\n",
    "s2 = input(\"패턴을 입력하세요.: \")\n",
    "\n",
    "idx = bf_match(s1, s2)\n",
    "\n",
    "if idx == -1:\n",
    "    print(\"텍스트 안에 패턴이 존재하지 않습니다.\")\n",
    "else:\n",
    "    print(f'index: {idx} 위치부터 일치합니다.')"
   ]
  }
 ],
 "metadata": {
  "kernelspec": {
   "display_name": "Python 3 (ipykernel)",
   "language": "python",
   "name": "python3"
  },
  "language_info": {
   "codemirror_mode": {
    "name": "ipython",
    "version": 3
   },
   "file_extension": ".py",
   "mimetype": "text/x-python",
   "name": "python",
   "nbconvert_exporter": "python",
   "pygments_lexer": "ipython3",
   "version": "3.10.3"
  },
  "vscode": {
   "interpreter": {
    "hash": "aee8b7b246df8f9039afb4144a1f6fd8d2ca17a180786b69acc140d282b71a49"
   }
  }
 },
 "nbformat": 4,
 "nbformat_minor": 2
}
