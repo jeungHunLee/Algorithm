{
 "cells": [
  {
   "cell_type": "code",
   "execution_count": 2,
   "id": "b3700340",
   "metadata": {},
   "outputs": [
    {
     "name": "stdout",
     "output_type": "stream",
     "text": [
      "텍스트를 입력하세요.: ABCXDEZCABACABAC\n",
      "패턴을 입력하세요.: ABAC\n",
      "index: 8 위치부터 일치합니다.\n"
     ]
    }
   ],
   "source": [
    "# 보이어, 무어법\n",
    "\n",
    "def bm_match(txt, pat):\n",
    "    skip = [None] * 256\n",
    "    \n",
    "    # 건너뛰기 표\n",
    "    for pt in range(256):\n",
    "        skip[pt] = len(pat)\n",
    "    for pt in range(len(pat)):\n",
    "        skip[ord(pat[pt])] = len(pat) - pt - 1\n",
    "        '''\n",
    "        ABAC에서 A에서 일치할때 4(len(pat)) - 2(pt) - 1만큼 이동한다.(기준은 마지막 문자 기준)\n",
    "        '''\n",
    "        \n",
    "    # 검색\n",
    "    while pt < len(txt):    # pt는 len(pat) - 1에 위치\n",
    "        pp = len(pat) - 1    # 패턴의 뒤에서부터 확인\n",
    "        while txt[pt] == pat[pp]:\n",
    "            if pp == 0:\n",
    "                return pt\n",
    "            pt -= 1\n",
    "            pp -= 1\n",
    "        pt += skip[ord(txt[pt])] if skip[ord(txt[pt])] > len(pat) - pp else len(pat) - pp\n",
    "        '''\n",
    "        if skip[ord(txt[pt])] > len(pat):\n",
    "            pt += skip[ord(txt[pt])]\n",
    "        else:\n",
    "            pt += len(pat) - pp\n",
    "        '''\n",
    "        \n",
    "    return -1\n",
    "\n",
    "s1 = input(\"텍스트를 입력하세요.: \")\n",
    "s2 = input(\"패턴을 입력하세요.: \")\n",
    "\n",
    "idx = bm_match(s1, s2)\n",
    "\n",
    "if idx == -1:\n",
    "    print(\"텍스트 안에 패턴이 존재하지 않습니다.\")\n",
    "else:\n",
    "    print(f'index: {idx} 위치부터 일치합니다.')"
   ]
  }
 ],
 "metadata": {
  "kernelspec": {
   "display_name": "Python 3 (ipykernel)",
   "language": "python",
   "name": "python3"
  },
  "language_info": {
   "codemirror_mode": {
    "name": "ipython",
    "version": 3
   },
   "file_extension": ".py",
   "mimetype": "text/x-python",
   "name": "python",
   "nbconvert_exporter": "python",
   "pygments_lexer": "ipython3",
   "version": "3.10.3"
  }
 },
 "nbformat": 4,
 "nbformat_minor": 5
}
