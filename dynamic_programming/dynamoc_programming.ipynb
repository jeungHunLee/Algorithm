{
 "cells": [
  {
   "cell_type": "markdown",
   "source": [
    "# dynamic programming 예시\n",
    "\n",
    "|보석 종류 |무게|가격|\n",
    "|:----:|:---:|:---:|\n",
    "|금괴|6kg|13억|\n",
    "|수정|4kg|8억|\n",
    "|루비|3kg|6억|\n",
    "|진주|5kg|12억|\n",
    "\n",
    "## 크기가 7kg인 배낭에 넣을 수 있는 보석 가격의 최댓값 구하기"
   ],
   "metadata": {
    "collapsed": false
   }
  },
  {
   "cell_type": "code",
   "execution_count": 4,
   "outputs": [
    {
     "name": "stdout",
     "output_type": "stream",
     "text": [
      "--메모이제이션 배열--\n",
      "1 개 -->  0  0  0  0  0 13 13 \n",
      "2 개 -->  0  0  0  8  8 13 13 \n",
      "3 개 -->  0  0  6  8  8 13 14 \n",
      "4 개 -->  0  0  6  8 12 13 14 \n",
      "\n",
      "배낭에 담을 수 있는 보석의 최대 가격 --> 14 억원\n"
     ]
    }
   ],
   "source": [
    "def knapsack():\n",
    "    print(\"--메모이제이션 배열--\")\n",
    "    array = [[0 for _ in range(maxWeight + 1)] for _ in range(rowCount + 1)]\n",
    "    for row in range(1, rowCount + 1):    # 1개부터 rowCount 만큼 배낭에 담는 경우\n",
    "        print(row, \"개 -->\", end=' ')\n",
    "        for col in range(1, maxWeight + 1):    # 1kg부터 7kg까지 담는 경우\n",
    "            if weight[row] > col:    # 물건이 가방에 들어가지 않으면\n",
    "                array[row][col] = array[row - 1][col]     # 바로 위의 행 값을 가져옴\n",
    "            else:\n",
    "                value1 = money[row] + array[row - 1][col-weight[row]]    # (보석의 무게 + 여유 무게) 값\n",
    "                value2 = array[row - 1][col]    # 이전 행의 값\n",
    "                array[row][col] = max(value1, value2)    # 둘 중 큰 값을 선택\n",
    "            print(\"%2d\" %array[row][col], end=' ')\n",
    "        print()\n",
    "    return array[rowCount][maxWeight]\n",
    "\n",
    "\n",
    "maxWeight = 7    # 배낭의 최대 무게\n",
    "rowCount = 4    # 보석의 숫자\n",
    "weight = [0, 6, 4, 3, 5]    # 보석의 무게\n",
    "money = [0, 13, 8, 6, 12]    # 보석의 가격\n",
    "\n",
    "maxValue = knapsack()\n",
    "print()\n",
    "print(\"배낭에 담을 수 있는 보석의 최대 가격 -->\", maxValue, \"억원\")"
   ],
   "metadata": {
    "collapsed": false
   }
  }
 ],
 "metadata": {
  "kernelspec": {
   "display_name": "Python 3",
   "language": "python",
   "name": "python3"
  },
  "language_info": {
   "codemirror_mode": {
    "name": "ipython",
    "version": 2
   },
   "file_extension": ".py",
   "mimetype": "text/x-python",
   "name": "python",
   "nbconvert_exporter": "python",
   "pygments_lexer": "ipython2",
   "version": "2.7.6"
  }
 },
 "nbformat": 4,
 "nbformat_minor": 0
}
