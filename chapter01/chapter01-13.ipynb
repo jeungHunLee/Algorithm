{
 "cells": [
  {
   "cell_type": "markdown",
   "id": "82702246",
   "metadata": {},
   "source": [
    "### 실습01-13 +와 -를 번갈아 출력하기2"
   ]
  },
  {
   "cell_type": "code",
   "execution_count": 1,
   "id": "66a8f7e5",
   "metadata": {},
   "outputs": [
    {
     "name": "stdout",
     "output_type": "stream",
     "text": [
      "+와 -를 번갈아 출력합니다.\n",
      "몇 개를 출력할까요?: 15\n",
      "+-+-+-+-+-+-+-+\n"
     ]
    }
   ],
   "source": [
    "print(\"+와 -를 번갈아 출력합니다.\")\n",
    "n = int(input(\"몇 개를 출력할까요?: \"))\n",
    "\n",
    "for _ in range(n // 2):\n",
    "    print('+-', end=\"\")\n",
    "    \n",
    "if n % 2 != 0:    # n이 홀수일 경우 마지막에 '+' 출력\n",
    "    print('+')"
   ]
  }
 ],
 "metadata": {
  "kernelspec": {
   "display_name": "Python 3 (ipykernel)",
   "language": "python",
   "name": "python3"
  },
  "language_info": {
   "codemirror_mode": {
    "name": "ipython",
    "version": 3
   },
   "file_extension": ".py",
   "mimetype": "text/x-python",
   "name": "python",
   "nbconvert_exporter": "python",
   "pygments_lexer": "ipython3",
   "version": "3.10.3"
  }
 },
 "nbformat": 4,
 "nbformat_minor": 5
}
