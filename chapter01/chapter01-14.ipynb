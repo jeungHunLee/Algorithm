{
 "cells": [
  {
   "cell_type": "markdown",
   "id": "3856205e",
   "metadata": {},
   "source": [
    "### 실습01-14 *를 n개 출력하되 w개 마다 줄바꿈하기 1"
   ]
  },
  {
   "cell_type": "code",
   "execution_count": 4,
   "id": "ebe7c2d4",
   "metadata": {},
   "outputs": [
    {
     "name": "stdout",
     "output_type": "stream",
     "text": [
      "*를 출력합니다.\n",
      "몇 개를 출력할까요?: 14\n",
      "몇 개마다 줄바꿈할까요?: 5\n",
      "*****\n",
      "*****\n",
      "****\n"
     ]
    }
   ],
   "source": [
    "print(\"*를 출력합니다.\")\n",
    "n = int(input(\"몇 개를 출력할까요?: \"))\n",
    "w = int(input(\"몇 개마다 줄바꿈할까요?: \"))\n",
    "\n",
    "for i in range(n):\n",
    "    print('*', end=\"\")\n",
    "    if i % w == w - 1:    # w개를 출력했을때 줄바꿈\n",
    "        print()\n",
    "        \n",
    "if n % w:    # n이 w의 배수가 아닐때 줄바꿈\n",
    "    print()"
   ]
  }
 ],
 "metadata": {
  "kernelspec": {
   "display_name": "Python 3 (ipykernel)",
   "language": "python",
   "name": "python3"
  },
  "language_info": {
   "codemirror_mode": {
    "name": "ipython",
    "version": 3
   },
   "file_extension": ".py",
   "mimetype": "text/x-python",
   "name": "python",
   "nbconvert_exporter": "python",
   "pygments_lexer": "ipython3",
   "version": "3.10.3"
  }
 },
 "nbformat": 4,
 "nbformat_minor": 5
}
