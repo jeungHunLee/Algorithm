{
 "cells": [
  {
   "cell_type": "markdown",
   "id": "453e9b28",
   "metadata": {},
   "source": [
    "### 실습01-22 왼쪽 아래가 직각인 직각 이등변 삼각형 으로 * 출력하기"
   ]
  },
  {
   "cell_type": "code",
   "execution_count": 1,
   "id": "97af4747",
   "metadata": {},
   "outputs": [
    {
     "name": "stdout",
     "output_type": "stream",
     "text": [
      "왼쪽 아래가 직각인 직각 이등변 삼각형을 출력합니다.\n",
      "짧은 변의 길이를 입력하세요: 5\n",
      "*\n",
      "**\n",
      "***\n",
      "****\n",
      "*****\n"
     ]
    }
   ],
   "source": [
    "print(\"왼쪽 아래가 직각인 직각 이등변 삼각형을 출력합니다.\")\n",
    "\n",
    "n = int(input(\"짧은 변의 길이를 입력하세요: \"))\n",
    "\n",
    "for i in range(n):\n",
    "    print('*' * (i + 1))"
   ]
  }
 ],
 "metadata": {
  "kernelspec": {
   "display_name": "Python 3 (ipykernel)",
   "language": "python",
   "name": "python3"
  },
  "language_info": {
   "codemirror_mode": {
    "name": "ipython",
    "version": 3
   },
   "file_extension": ".py",
   "mimetype": "text/x-python",
   "name": "python",
   "nbconvert_exporter": "python",
   "pygments_lexer": "ipython3",
   "version": "3.10.3"
  }
 },
 "nbformat": 4,
 "nbformat_minor": 5
}
