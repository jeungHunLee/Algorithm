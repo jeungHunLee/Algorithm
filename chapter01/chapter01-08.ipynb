{
 "cells": [
  {
   "cell_type": "markdown",
   "id": "723449d9",
   "metadata": {},
   "source": [
    "### 실습01-08 1부터 n까지 정수의 합 구하기(for문)"
   ]
  },
  {
   "cell_type": "code",
   "execution_count": 3,
   "id": "14b75c7c",
   "metadata": {},
   "outputs": [
    {
     "name": "stdout",
     "output_type": "stream",
     "text": [
      "1부터 n까지 정수의 합을 구합니다.\n",
      "n값을 입력하세요: 5\n",
      "1부터 5까지의 합은 15입니다.\n"
     ]
    }
   ],
   "source": [
    "print(\"1부터 n까지 정수의 합을 구합니다.\")\n",
    "n = int(input(\"n값을 입력하세요: \"))\n",
    "\n",
    "numbers = [i for i in range(1, n + 1)]    # list comprehension으로 리스트에 1부터 n까지의 수 저장\n",
    "result = sum(numbers)    # 리스트의 합\n",
    "\n",
    "print(\"1부터 \" + str(n) + \"까지의 합은 \" + str(result) + \"입니다.\")"
   ]
  }
 ],
 "metadata": {
  "kernelspec": {
   "display_name": "Python 3 (ipykernel)",
   "language": "python",
   "name": "python3"
  },
  "language_info": {
   "codemirror_mode": {
    "name": "ipython",
    "version": 3
   },
   "file_extension": ".py",
   "mimetype": "text/x-python",
   "name": "python",
   "nbconvert_exporter": "python",
   "pygments_lexer": "ipython3",
   "version": "3.10.3"
  }
 },
 "nbformat": 4,
 "nbformat_minor": 5
}
