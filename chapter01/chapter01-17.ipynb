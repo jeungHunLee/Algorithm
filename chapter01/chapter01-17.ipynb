{
 "cells": [
  {
   "cell_type": "markdown",
   "id": "c25f45b6",
   "metadata": {},
   "source": [
    "### 실습01-17 가로 세로 길이가 정수이고 넓이가 area인 직사각형에서 변의 길이 나열하기"
   ]
  },
  {
   "cell_type": "code",
   "execution_count": 2,
   "id": "28ccca8b",
   "metadata": {},
   "outputs": [
    {
     "name": "stdout",
     "output_type": "stream",
     "text": [
      "직사각형의 넓이를 입력하세요.: 16\n",
      "1 X 16\n",
      "2 X 8\n",
      "4 X 4\n"
     ]
    }
   ],
   "source": [
    "area = int(input(\"직사각형의 넓이를 입력하세요.: \"))\n",
    "\n",
    "for i in range(1, area + 1):\n",
    "    if i ** 2 > area:    # i를 한변으로 하는 사각형의 넓이가 area보다 크다면 break\n",
    "        break\n",
    "    if area % i != 0:    # i가 약수가 아닐경우 continue\n",
    "        continue\n",
    "        \n",
    "    print(f'{i} X {area // i}')"
   ]
  }
 ],
 "metadata": {
  "kernelspec": {
   "display_name": "Python 3 (ipykernel)",
   "language": "python",
   "name": "python3"
  },
  "language_info": {
   "codemirror_mode": {
    "name": "ipython",
    "version": 3
   },
   "file_extension": ".py",
   "mimetype": "text/x-python",
   "name": "python",
   "nbconvert_exporter": "python",
   "pygments_lexer": "ipython3",
   "version": "3.10.3"
  }
 },
 "nbformat": 4,
 "nbformat_minor": 5
}
