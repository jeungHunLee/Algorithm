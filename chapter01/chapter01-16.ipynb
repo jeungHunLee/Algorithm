{
 "cells": [
  {
   "cell_type": "markdown",
   "id": "e99e19bc",
   "metadata": {},
   "source": [
    "### 실습01-16 1부터 n까지 정수의 합 구하기"
   ]
  },
  {
   "cell_type": "code",
   "execution_count": 2,
   "id": "97dfa4d0",
   "metadata": {},
   "outputs": [
    {
     "name": "stdout",
     "output_type": "stream",
     "text": [
      "1부터 n까지 합을 구합니다.\n",
      "n값을 입력하세요.: 10\n",
      "1부터 10까지의 합은 55입니다.\n"
     ]
    }
   ],
   "source": [
    "print(\"1부터 n까지 합을 구합니다.\")\n",
    "\n",
    "while True:\n",
    "    n = int(input(\"n값을 입력하세요.: \"))\n",
    "    if n > 0:\n",
    "        break\n",
    "        \n",
    "sum = n * (n + 1) // 2    # 1부터 n까지의 합\n",
    "\n",
    "print(f'1부터 {n}까지의 합은 {sum}입니다.')"
   ]
  }
 ],
 "metadata": {
  "kernelspec": {
   "display_name": "Python 3 (ipykernel)",
   "language": "python",
   "name": "python3"
  },
  "language_info": {
   "codemirror_mode": {
    "name": "ipython",
    "version": 3
   },
   "file_extension": ".py",
   "mimetype": "text/x-python",
   "name": "python",
   "nbconvert_exporter": "python",
   "pygments_lexer": "ipython3",
   "version": "3.10.3"
  }
 },
 "nbformat": 4,
 "nbformat_minor": 5
}
