{
 "cells": [
  {
   "cell_type": "markdown",
   "id": "a836a1a1",
   "metadata": {},
   "source": [
    "### 실습01-09 a부터 b까지 정수의 합 구하기 (for문)"
   ]
  },
  {
   "cell_type": "code",
   "execution_count": 4,
   "id": "68ebe9da",
   "metadata": {},
   "outputs": [
    {
     "name": "stdout",
     "output_type": "stream",
     "text": [
      "a부터 b까지 정수의 합을 구합니다.\n",
      "정수 a를 입력하세요: 8\n",
      "정수 b를 입력하세요: 3\n",
      "3부터 8까지 정수의 합은 33입니다.\n"
     ]
    }
   ],
   "source": [
    "print(\"a부터 b까지 정수의 합을 구합니다.\")\n",
    "a = int(input(\"정수 a를 입력하세요: \"))\n",
    "b = int(input(\"정수 b를 입력하세요: \"))\n",
    "\n",
    "if a > b:   # 만약 a가 더 크다면 swap\n",
    "    a, b = b, a\n",
    "    \n",
    "sum = 0\n",
    "for i in range(a, b + 1):\n",
    "    sum += i\n",
    "    \n",
    "print(f\"{a}부터 {b}까지 정수의 합은 {sum}입니다.\")"
   ]
  }
 ],
 "metadata": {
  "kernelspec": {
   "display_name": "Python 3 (ipykernel)",
   "language": "python",
   "name": "python3"
  },
  "language_info": {
   "codemirror_mode": {
    "name": "ipython",
    "version": 3
   },
   "file_extension": ".py",
   "mimetype": "text/x-python",
   "name": "python",
   "nbconvert_exporter": "python",
   "pygments_lexer": "ipython3",
   "version": "3.10.3"
  }
 },
 "nbformat": 4,
 "nbformat_minor": 5
}
