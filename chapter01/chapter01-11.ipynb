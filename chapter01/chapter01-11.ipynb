{
 "cells": [
  {
   "cell_type": "markdown",
   "id": "5312bce8",
   "metadata": {},
   "source": [
    "### 실습01-11 a부터 b까지 합 구하기 2"
   ]
  },
  {
   "cell_type": "code",
   "execution_count": 1,
   "id": "e737aac3",
   "metadata": {},
   "outputs": [
    {
     "name": "stdout",
     "output_type": "stream",
     "text": [
      "a부터 b까지 정수의 합을 구합니다.\n",
      "정수 a의 값을 입력하세요.: 3\n",
      "정수 b의 값을 입력하세요.: 7\n",
      "3 + 4 + 5 + 6 + 7 = 25\n"
     ]
    }
   ],
   "source": [
    "print(\"a부터 b까지 정수의 합을 구합니다.\")\n",
    "a = int(input(\"정수 a의 값을 입력하세요.: \"))\n",
    "b = int(input(\"정수 b의 값을 입력하세요.: \"))\n",
    "\n",
    "if a > b:\n",
    "    a, b = b, a\n",
    "    \n",
    "sum = 0\n",
    "for i in range(a, b):    # a부터 b - 1까지 반복\n",
    "    print(str(i) + \" + \", end=\"\")\n",
    "    sum += i\n",
    "    \n",
    "sum += b    # 마지막에 b 더하기\n",
    "print(str(b) + \" = \" + str(sum))"
   ]
  }
 ],
 "metadata": {
  "kernelspec": {
   "display_name": "Python 3 (ipykernel)",
   "language": "python",
   "name": "python3"
  },
  "language_info": {
   "codemirror_mode": {
    "name": "ipython",
    "version": 3
   },
   "file_extension": ".py",
   "mimetype": "text/x-python",
   "name": "python",
   "nbconvert_exporter": "python",
   "pygments_lexer": "ipython3",
   "version": "3.10.3"
  }
 },
 "nbformat": 4,
 "nbformat_minor": 5
}
