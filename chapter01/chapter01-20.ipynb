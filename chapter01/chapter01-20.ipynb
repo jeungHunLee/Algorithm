{
 "cells": [
  {
   "cell_type": "markdown",
   "id": "cb8f0e86",
   "metadata": {},
   "source": [
    "### 실습01-20 1~12까지 정수 중 8을 건너뛰고 출력하기 2"
   ]
  },
  {
   "cell_type": "code",
   "execution_count": 3,
   "id": "03eb5483",
   "metadata": {},
   "outputs": [
    {
     "name": "stdout",
     "output_type": "stream",
     "text": [
      "1 2 3 4 5 6 7 9 10 11 12 \n"
     ]
    }
   ],
   "source": [
    "for i in list(range(1, 8)) + list(range(9, 13)):\n",
    "    print(i, end=\" \")\n",
    "print()"
   ]
  }
 ],
 "metadata": {
  "kernelspec": {
   "display_name": "Python 3 (ipykernel)",
   "language": "python",
   "name": "python3"
  },
  "language_info": {
   "codemirror_mode": {
    "name": "ipython",
    "version": 3
   },
   "file_extension": ".py",
   "mimetype": "text/x-python",
   "name": "python",
   "nbconvert_exporter": "python",
   "pygments_lexer": "ipython3",
   "version": "3.10.3"
  }
 },
 "nbformat": 4,
 "nbformat_minor": 5
}
