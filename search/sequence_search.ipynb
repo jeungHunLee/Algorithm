{
 "cells": [
  {
   "cell_type": "code",
   "execution_count": 7,
   "metadata": {
    "collapsed": true
   },
   "outputs": [
    {
     "name": "stdout",
     "output_type": "stream",
     "text": [
      "배열 =>> [188, 150, 105, 168, 162, 105, 120, 177, 50, 105]\n",
      "비교한 데이터 ==> 188 150 105 168 162 105 120 177 50 105 \n",
      "105 (은)는  [2, 5, 9] 에 있습니다.\n"
     ]
    }
   ],
   "source": [
    "# 정렬되지 않은 데이터의 순차 검색\n",
    "\n",
    "def seq_search(arr, data):\n",
    "    result = []\n",
    "    print(\"비교한 데이터 ==>\", end=' ')\n",
    "    for i in range(len(arr)):\n",
    "        print(arr[i], end=' ')\n",
    "        if arr[i] == data:\n",
    "            result.append(i)\n",
    "\n",
    "    return result\n",
    "\n",
    "arr = [188, 150, 105, 168, 162, 105, 120, 177, 50, 105]\n",
    "findData = int(input())\n",
    "print(\"배열 =>>\", arr)\n",
    "position = seq_search(arr, findData)\n",
    "print()\n",
    "\n",
    "if len(position) == 0:\n",
    "    print(findData, \"(이)가 없습니다.\")\n",
    "else:\n",
    "    print(findData, \"(은)는 \", position, \"에 있습니다.\")"
   ]
  },
  {
   "cell_type": "code",
   "execution_count": 8,
   "outputs": [
    {
     "name": "stdout",
     "output_type": "stream",
     "text": [
      "배열 =>> [50, 105, 105, 105, 120, 150, 162, 168, 177, 188]\n",
      "비교한 데이터 ==> 50 105 105 105 120 150 162 168 177 188 \n",
      "105 (은)는  [1, 2, 3] 에 있습니다.\n"
     ]
    }
   ],
   "source": [
    "# 정렬된 데이터의 순차 검색\n",
    "\n",
    "def seq_search(arr, data):\n",
    "    result = []\n",
    "    print(\"비교한 데이터 ==>\", end=' ')\n",
    "    for i in range(len(arr)):\n",
    "        print(arr[i], end=' ')\n",
    "        if arr[i] == data:\n",
    "            result.append(i)\n",
    "\n",
    "    return result\n",
    "\n",
    "arr = [188, 150, 105, 168, 162, 105, 120, 177, 50, 105]\n",
    "arr.sort()\n",
    "findData = int(input())\n",
    "print(\"배열 =>>\", arr)\n",
    "position = seq_search(arr, findData)\n",
    "print()\n",
    "\n",
    "if len(position) == 0:\n",
    "    print(findData, \"(이)가 없습니다.\")\n",
    "else:\n",
    "    print(findData, \"(은)는 \", position, \"에 있습니다.\")"
   ],
   "metadata": {
    "collapsed": false
   }
  },
  {
   "cell_type": "code",
   "execution_count": null,
   "outputs": [],
   "source": [],
   "metadata": {
    "collapsed": false
   }
  }
 ],
 "metadata": {
  "kernelspec": {
   "display_name": "Python 3",
   "language": "python",
   "name": "python3"
  },
  "language_info": {
   "codemirror_mode": {
    "name": "ipython",
    "version": 2
   },
   "file_extension": ".py",
   "mimetype": "text/x-python",
   "name": "python",
   "nbconvert_exporter": "python",
   "pygments_lexer": "ipython2",
   "version": "2.7.6"
  }
 },
 "nbformat": 4,
 "nbformat_minor": 0
}
