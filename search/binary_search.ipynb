{
 "cells": [
  {
   "cell_type": "code",
   "execution_count": 6,
   "metadata": {
    "collapsed": true
   },
   "outputs": [
    {
     "name": "stdout",
     "output_type": "stream",
     "text": [
      "배열 ==> [50, 60, 105, 120, 150, 160, 162, 168, 177, 188]\n",
      "162 (은)는  6 에 있습니다.\n"
     ]
    }
   ],
   "source": [
    "# binary search\n",
    "\n",
    "def binary_search(arr, data):\n",
    "    start = 0\n",
    "    end = len(arr) - 1\n",
    "\n",
    "    while start <= end:\n",
    "        center = (start + end) // 2\n",
    "\n",
    "        if arr[center] == data:\n",
    "            return center\n",
    "        elif arr[center] < data:\n",
    "            start = center + 1\n",
    "        else:\n",
    "            end = center - 1\n",
    "\n",
    "    return -1\n",
    "\n",
    "arr = [50, 60, 105, 120, 150, 160, 162, 168, 177, 188]\n",
    "findData = 162\n",
    "\n",
    "print(\"배열 ==>\", arr)\n",
    "position = binary_search(arr, findData)\n",
    "\n",
    "if position == -1:\n",
    "    print(findData, \"(이)가 없습니다.\")\n",
    "else:\n",
    "    print(findData, \"(은)는 \", position, \"에 있습니다.\")"
   ]
  },
  {
   "cell_type": "code",
   "execution_count": 10,
   "outputs": [
    {
     "name": "stdout",
     "output_type": "stream",
     "text": [
      "책장의 도서 ==> [['어린왕자', '쌩떽쥐베리'], ['이방인', '까뮈'], ['부활', '톨스토이'], ['신곡', '단테'], ['돈키호테', '세르반테스'], ['동물농장', '조지오웰'], ['데미안', '헤르만헤세'], ['파우스트', '괴테'], ['대지', '펄벅']]\n",
      "도서명 색인표 ==> [('대지', 8), ('데미안', 6), ('돈키호테', 4), ('동물농장', 5), ('부활', 2), ('신곡', 3), ('어린왕자', 0), ('이방인', 1), ('파우스트', 7)]\n",
      "작가면 색인표 ==> [('괴테', 7), ('까뮈', 1), ('단테', 3), ('세르반테스', 4), ('쌩떽쥐베리', 0), ('조지오웰', 5), ('톨스토이', 2), ('펄벅', 8), ('헤르만헤세', 6)]\n",
      "신곡 의 작가는 단테 입니다.\n"
     ]
    }
   ],
   "source": [
    "# 원하는 기준으로 정렬하기\n",
    "\n",
    "def makeIndex(arr, pos):\n",
    "    beforeArr = []\n",
    "    index = 0\n",
    "    for data in arr:\n",
    "        beforeArr.append((data[pos], index))\n",
    "        index += 1\n",
    "\n",
    "    sortedArr = sorted(beforeArr, key=lambda x: x[0])\n",
    "    return sortedArr\n",
    "\n",
    "def bookSearch(arr, data):\n",
    "    start = 0\n",
    "    end = len(arr)\n",
    "\n",
    "    while start <= end:\n",
    "        center = (start + end) // 2\n",
    "        if data == arr[center][0]:\n",
    "            return arr[center][1]\n",
    "        elif data < arr[center][0]:\n",
    "            end = center - 1\n",
    "        else:\n",
    "            start = center + 1\n",
    "\n",
    "    return -1\n",
    "\n",
    "bookAry = [['어린왕자', '쌩떽쥐베리'], ['이방인', '까뮈'], ['부활', '톨스토이'], ['신곡', '단테'], ['돈키호테', '세르반테스'], ['동물농장', '조지오웰'], ['데미안', '헤르만헤세'], ['파우스트', '괴테'], ['대지', '펄벅']]\n",
    "print(\"책장의 도서 ==>\", bookAry)\n",
    "nameIndex = makeIndex(bookAry, 0)\n",
    "print(\"도서명 색인표 ==>\", nameIndex)\n",
    "authorIndex = makeIndex(bookAry, 1)\n",
    "print(\"작가면 색인표 ==>\", authorIndex)\n",
    "\n",
    "findName = \"신곡\"\n",
    "findPos = bookSearch(nameIndex, findName)\n",
    "if findPos != -1:\n",
    "    print(findName, \"의 작가는\",bookAry[findPos][1], \"입니다.\")\n",
    "else:\n",
    "    print(findName,\"책은 없습니다.\")"
   ],
   "metadata": {
    "collapsed": false
   }
  }
 ],
 "metadata": {
  "kernelspec": {
   "display_name": "Python 3",
   "language": "python",
   "name": "python3"
  },
  "language_info": {
   "codemirror_mode": {
    "name": "ipython",
    "version": 2
   },
   "file_extension": ".py",
   "mimetype": "text/x-python",
   "name": "python",
   "nbconvert_exporter": "python",
   "pygments_lexer": "ipython2",
   "version": "2.7.6"
  }
 },
 "nbformat": 4,
 "nbformat_minor": 0
}
