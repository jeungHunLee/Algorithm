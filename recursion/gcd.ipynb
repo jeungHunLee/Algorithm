{
 "cells": [
  {
   "cell_type": "markdown",
   "id": "72831877",
   "metadata": {},
   "source": [
    "### 실습 5-2 유클리드 호제법으로 최대 공약수 구하기"
   ]
  },
  {
   "cell_type": "code",
   "execution_count": 2,
   "id": "52ccbb00",
   "metadata": {},
   "outputs": [
    {
     "name": "stdout",
     "output_type": "stream",
     "text": [
      "두 정수값의 최대 공약수를 구합니다.\n",
      "첫 번째 정수값을 입력하세요.: 192\n",
      "두 번째 정수값을 입력하세요.: 88\n",
      "두 정수값의 최대 공약수는 8입니다.\n"
     ]
    }
   ],
   "source": [
    "def gcd(x, y):\n",
    "    if x < y:    # 유클리드 호제법은 x > y일때 성립\n",
    "        x, y = y, x    # swap\n",
    "        \n",
    "    if y == 0:\n",
    "        return x    # gcd는 x\n",
    "    \n",
    "    else:\n",
    "        return gcd(y, x % y)    # recursion\n",
    "\n",
    "print(\"두 정수값의 최대 공약수를 구합니다.\")\n",
    "x = int(input(\"첫 번째 정수값을 입력하세요.: \"))\n",
    "y = int(input(\"두 번째 정수값을 입력하세요.: \"))\n",
    "\n",
    "print(f'두 정수값의 최대 공약수는 {gcd(x, y)}입니다.')"
   ]
  },
  {
   "cell_type": "markdown",
   "id": "4de0354c",
   "metadata": {},
   "source": [
    "### math 모듈 gcd 함수 이용"
   ]
  },
  {
   "cell_type": "code",
   "execution_count": 3,
   "id": "7da5ce9d",
   "metadata": {},
   "outputs": [
    {
     "name": "stdout",
     "output_type": "stream",
     "text": [
      "두 정수값의 최대 공약수를 구합니다.\n",
      "첫 번째 정수값을 입력하세요.: 192\n",
      "두 번째 정수값을 입력하세요.: 88\n",
      "두 정수값의 최대 공약수는 8입니다.\n"
     ]
    }
   ],
   "source": [
    "import math\n",
    "\n",
    "print(\"두 정수값의 최대 공약수를 구합니다.\")\n",
    "x = int(input(\"첫 번째 정수값을 입력하세요.: \"))\n",
    "y = int(input(\"두 번째 정수값을 입력하세요.: \"))\n",
    "\n",
    "print(f'두 정수값의 최대 공약수는 {math.gcd(x, y)}입니다.')"
   ]
  }
 ],
 "metadata": {
  "kernelspec": {
   "display_name": "Python 3 (ipykernel)",
   "language": "python",
   "name": "python3"
  },
  "language_info": {
   "codemirror_mode": {
    "name": "ipython",
    "version": 3
   },
   "file_extension": ".py",
   "mimetype": "text/x-python",
   "name": "python",
   "nbconvert_exporter": "python",
   "pygments_lexer": "ipython3",
   "version": "3.10.3"
  }
 },
 "nbformat": 4,
 "nbformat_minor": 5
}
