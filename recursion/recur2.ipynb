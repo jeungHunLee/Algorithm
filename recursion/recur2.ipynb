{
 "cells": [
  {
   "cell_type": "markdown",
   "id": "9b740e07",
   "metadata": {},
   "source": [
    "### recur 함수 거꾸로 출력"
   ]
  },
  {
   "cell_type": "code",
   "execution_count": 1,
   "id": "590cd01f",
   "metadata": {},
   "outputs": [
    {
     "name": "stdout",
     "output_type": "stream",
     "text": [
      "정숫값을 입력하세요.: 5\n",
      "1\n",
      "3\n",
      "2\n",
      "1\n",
      "5\n",
      "2\n",
      "1\n",
      "4\n",
      "1\n",
      "3\n",
      "2\n",
      "1\n"
     ]
    }
   ],
   "source": [
    "def recur(n):\n",
    "    if n > 0:\n",
    "        recur(n - 2)\n",
    "        print(n)\n",
    "        recur(n - 1)\n",
    "        \n",
    "x = int(input(\"정숫값을 입력하세요.: \"))\n",
    "recur(x)"
   ]
  }
 ],
 "metadata": {
  "kernelspec": {
   "display_name": "Python 3 (ipykernel)",
   "language": "python",
   "name": "python3"
  },
  "language_info": {
   "codemirror_mode": {
    "name": "ipython",
    "version": 3
   },
   "file_extension": ".py",
   "mimetype": "text/x-python",
   "name": "python",
   "nbconvert_exporter": "python",
   "pygments_lexer": "ipython3",
   "version": "3.10.3"
  }
 },
 "nbformat": 4,
 "nbformat_minor": 5
}
