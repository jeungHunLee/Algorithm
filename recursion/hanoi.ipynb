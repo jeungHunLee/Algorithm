{
 "cells": [
  {
   "cell_type": "markdown",
   "id": "b2e22518",
   "metadata": {},
   "source": [
    "### 실습 5-6 하노이의 탑 구현하기"
   ]
  },
  {
   "cell_type": "code",
   "execution_count": 3,
   "id": "b8ef390b",
   "metadata": {},
   "outputs": [
    {
     "name": "stdout",
     "output_type": "stream",
     "text": [
      "하노이의 탑을 구현합니다.\n",
      "원반의 개수를 입력하세요.: 3\n",
      "원판 [1]을(를) 1 기둥에서 3 기둥으로 옮깁니다.\n",
      "원판 [2]을(를) 1 기둥에서 2 기둥으로 옮깁니다.\n",
      "원판 [1]을(를) 3 기둥에서 2 기둥으로 옮깁니다.\n",
      "원판 [3]을(를) 1 기둥에서 3 기둥으로 옮깁니다.\n",
      "원판 [1]을(를) 2 기둥에서 1 기둥으로 옮깁니다.\n",
      "원판 [2]을(를) 2 기둥에서 3 기둥으로 옮깁니다.\n",
      "원판 [1]을(를) 1 기둥에서 3 기둥으로 옮깁니다.\n"
     ]
    }
   ],
   "source": [
    "def move(no, x, y):    # no: 원판의 개수 x: 시작 기둥 번호 y: 목표 기둥 번호\n",
    "    if no > 1:\n",
    "        move(no - 1, x, 6 - x - y)    # 가장 마지막 원판을 제외한 나머지 원판을 그룹으로 생각하여 x 기둥에서 6 - x - y 기둥으로 이동\n",
    "        \n",
    "    print(f'원판 [{no}]을(를) {x} 기둥에서 {y} 기둥으로 옮깁니다.')\n",
    "    \n",
    "    if no > 1:\n",
    "        move(no - 1, 6 - x - y, y)    # 다시 합치기\n",
    "    \n",
    "print(\"하노이의 탑을 구현합니다.\")\n",
    "n = int(input(\"원반의 개수를 입력하세요.: \"))\n",
    "\n",
    "move(n, 1, 3)"
   ]
  }
 ],
 "metadata": {
  "kernelspec": {
   "display_name": "Python 3 (ipykernel)",
   "language": "python",
   "name": "python3"
  },
  "language_info": {
   "codemirror_mode": {
    "name": "ipython",
    "version": 3
   },
   "file_extension": ".py",
   "mimetype": "text/x-python",
   "name": "python",
   "nbconvert_exporter": "python",
   "pygments_lexer": "ipython3",
   "version": "3.10.3"
  }
 },
 "nbformat": 4,
 "nbformat_minor": 5
}
