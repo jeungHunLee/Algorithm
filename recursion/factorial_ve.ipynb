{
 "cells": [
  {
   "cell_type": "markdown",
   "id": "496b017f",
   "metadata": {},
   "source": [
    "### 실습 5-1 양의 정수인 팩토리얼 구하기(n이 음수면 ValueError 예외 처리 발생)"
   ]
  },
  {
   "cell_type": "code",
   "execution_count": 2,
   "id": "8bb1eb46",
   "metadata": {},
   "outputs": [
    {
     "name": "stdout",
     "output_type": "stream",
     "text": [
      "출력할 팩토리얼 값을 입력하세요.: -3\n",
      "-3의 팩토리얼은 구할 수 없습니다.\n"
     ]
    }
   ],
   "source": [
    "def factorial(n):\n",
    "    if n > 0:\n",
    "        return n * factorial(n - 1)    # recursion\n",
    "    \n",
    "    elif n == 0:\n",
    "        return 1    # 0!은 1 반환\n",
    "    \n",
    "    else:    # n이 음수인 경우\n",
    "        raise ValueError(f'{n}의 팩토리얼은 구할 수 없습니다.')    # error message\n",
    "        \n",
    "n = int(input(\"출력할 팩토리얼 값을 입력하세요.: \"))\n",
    "try:    # 실행 코드\n",
    "    print(f'{n}의 팩토리얼은 {factorial(n)}입니다.')\n",
    "except ValueError as e:    # exception\n",
    "    print(e)"
   ]
  }
 ],
 "metadata": {
  "kernelspec": {
   "display_name": "Python 3 (ipykernel)",
   "language": "python",
   "name": "python3"
  },
  "language_info": {
   "codemirror_mode": {
    "name": "ipython",
    "version": 3
   },
   "file_extension": ".py",
   "mimetype": "text/x-python",
   "name": "python",
   "nbconvert_exporter": "python",
   "pygments_lexer": "ipython3",
   "version": "3.10.3"
  }
 },
 "nbformat": 4,
 "nbformat_minor": 5
}
