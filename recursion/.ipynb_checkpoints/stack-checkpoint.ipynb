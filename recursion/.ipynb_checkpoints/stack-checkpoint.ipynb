{
 "cells": [
  {
   "cell_type": "markdown",
   "id": "67f15f6f",
   "metadata": {},
   "source": [
    "### 고정 길이 stack"
   ]
  },
  {
   "cell_type": "code",
   "execution_count": null,
   "id": "5fc44fac",
   "metadata": {},
   "outputs": [],
   "source": [
    "from collections import deque\n",
    "\n",
    "class Stack:\n",
    "    def __init__(self, maxlen = 256):\n",
    "        self.capacity = maxlen\n",
    "        self.__stk = deque([], maxlen)    # 크기가 maxlen인 빈 deque 생성\n",
    "        \n",
    "    def __len__(self):    # object 클래스 method overriding\n",
    "        return len(self.__stk)\n",
    "    \n",
    "    def is_empty(self):\n",
    "        return not self.__stk\n",
    "    \n",
    "    def is_full(self):\n",
    "        return len(self.__stk) == self.capacity\n",
    "    \n",
    "    def push(self, value):\n",
    "        self.__stk.append(value)\n",
    "        \n",
    "    def pop(self):\n",
    "        return self.__stk.pop()\n",
    "        \n",
    "    def peek(self):\n",
    "        return self.__stk[-1]\n",
    "    \n",
    "    def clear(self):\n",
    "        self.__stk.clear()\n",
    "        \n",
    "    def find(self, value):\n",
    "        try:\n",
    "            return self.__stk.find(value)\n",
    "        except ValueError:\n",
    "            retunr -1\n",
    "            \n",
    "    def count(self, value):\n",
    "        return self.__stk.count(value)\n",
    "    \n",
    "    def __contains__(self, value):    # object 클래스 method overriding\n",
    "        return self.count(value)\n",
    "    \n",
    "    def dump(self):\n",
    "        print(list(self.__stk))"
   ]
  }
 ],
 "metadata": {
  "kernelspec": {
   "display_name": "Python 3 (ipykernel)",
   "language": "python",
   "name": "python3"
  },
  "language_info": {
   "codemirror_mode": {
    "name": "ipython",
    "version": 3
   },
   "file_extension": ".py",
   "mimetype": "text/x-python",
   "name": "python",
   "nbconvert_exporter": "python",
   "pygments_lexer": "ipython3",
   "version": "3.10.3"
  }
 },
 "nbformat": 4,
 "nbformat_minor": 5
}
