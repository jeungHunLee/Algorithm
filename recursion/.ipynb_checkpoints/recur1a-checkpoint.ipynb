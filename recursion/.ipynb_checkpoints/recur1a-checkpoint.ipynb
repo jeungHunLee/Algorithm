{
 "cells": [
  {
   "cell_type": "markdown",
   "id": "c823543b",
   "metadata": {},
   "source": [
    "### 실습 5-4 비재귀적으로 재귀 함수 구현하기(꼬리 재귀를 제거)"
   ]
  },
  {
   "cell_type": "code",
   "execution_count": 1,
   "id": "2e6b943a",
   "metadata": {},
   "outputs": [
    {
     "name": "stdout",
     "output_type": "stream",
     "text": [
      "정수 값을 입력하세요.: 4\n",
      "1\n",
      "2\n",
      "3\n",
      "1\n",
      "4\n",
      "1\n",
      "2\n"
     ]
    }
   ],
   "source": [
    "def recur(n):\n",
    "    while n > 0:\n",
    "        recur(n - 1)\n",
    "        print(n)\n",
    "        n -= 2    # tail recursion도 recure 함수를 호출하기 때문에 n 업데이트 후 while문으로 반복하여 함수 호출\n",
    "        \n",
    "x = int(input(\"정수 값을 입력하세요.: \"))\n",
    "recur(x)"
   ]
  }
 ],
 "metadata": {
  "kernelspec": {
   "display_name": "Python 3 (ipykernel)",
   "language": "python",
   "name": "python3"
  },
  "language_info": {
   "codemirror_mode": {
    "name": "ipython",
    "version": 3
   },
   "file_extension": ".py",
   "mimetype": "text/x-python",
   "name": "python",
   "nbconvert_exporter": "python",
   "pygments_lexer": "ipython3",
   "version": "3.10.3"
  }
 },
 "nbformat": 4,
 "nbformat_minor": 5
}
