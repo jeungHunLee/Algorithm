{
 "cells": [
  {
   "cell_type": "markdown",
   "id": "c3291a0d",
   "metadata": {},
   "source": [
    "### 실습 5-1 양의 정수 n의 팩토리얼 구하기"
   ]
  },
  {
   "cell_type": "code",
   "execution_count": 1,
   "id": "70aa2a36",
   "metadata": {},
   "outputs": [
    {
     "name": "stdout",
     "output_type": "stream",
     "text": [
      "출력할 팩토리얼값을 입력하세요.: 5\n",
      "5 팩토리얼은 120입니다.\n"
     ]
    }
   ],
   "source": [
    "def factorial(n):\n",
    "    if n > 0:\n",
    "        return n * factorial(n - 1)    # recursion\n",
    "    \n",
    "    else:\n",
    "        return 1    # n이 0인 경우: 0!은 1 반환\n",
    "    \n",
    "n = int(input(\"출력할 팩토리얼값을 입력하세요.: \"))\n",
    "print(f'{n} 팩토리얼은 {factorial(n)}입니다.')"
   ]
  }
 ],
 "metadata": {
  "kernelspec": {
   "display_name": "Python 3 (ipykernel)",
   "language": "python",
   "name": "python3"
  },
  "language_info": {
   "codemirror_mode": {
    "name": "ipython",
    "version": 3
   },
   "file_extension": ".py",
   "mimetype": "text/x-python",
   "name": "python",
   "nbconvert_exporter": "python",
   "pygments_lexer": "ipython3",
   "version": "3.10.3"
  }
 },
 "nbformat": 4,
 "nbformat_minor": 5
}
