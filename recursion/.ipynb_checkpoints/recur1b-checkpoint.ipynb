{
 "cells": [
  {
   "cell_type": "markdown",
   "id": "212ae1cd",
   "metadata": {},
   "source": [
    "### 실습 5-5 스택으로 재귀 함수 구현하기(재귀 제거)"
   ]
  },
  {
   "cell_type": "code",
   "execution_count": 1,
   "id": "94c1537e",
   "metadata": {},
   "outputs": [
    {
     "name": "stdout",
     "output_type": "stream",
     "text": [
      "importing Jupyter notebook from stack.ipynb\n",
      "정숫값을 입력하세요.: 4\n",
      "1\n",
      "2\n",
      "3\n",
      "1\n",
      "4\n",
      "1\n",
      "2\n"
     ]
    }
   ],
   "source": [
    "import import_ipynb\n",
    "from stack import Stack\n",
    "\n",
    "def recur(n):\n",
    "    s = Stack(n)    # stack 객체 생성\n",
    "    \n",
    "    while True:\n",
    "        if n > 0:\n",
    "            s.push(n)    # stack에 저장\n",
    "            n -= 1\n",
    "            continue\n",
    "        if not s.is_empty():\n",
    "            n = s.pop()    # 저장된 값 꺼내기\n",
    "            print(n)\n",
    "            n -= 2\n",
    "            continue\n",
    "        break\n",
    "        \n",
    "x = int(input(\"정숫값을 입력하세요.: \"))\n",
    "recur(x)"
   ]
  }
 ],
 "metadata": {
  "kernelspec": {
   "display_name": "Python 3 (ipykernel)",
   "language": "python",
   "name": "python3"
  },
  "language_info": {
   "codemirror_mode": {
    "name": "ipython",
    "version": 3
   },
   "file_extension": ".py",
   "mimetype": "text/x-python",
   "name": "python",
   "nbconvert_exporter": "python",
   "pygments_lexer": "ipython3",
   "version": "3.10.3"
  }
 },
 "nbformat": 4,
 "nbformat_minor": 5
}
