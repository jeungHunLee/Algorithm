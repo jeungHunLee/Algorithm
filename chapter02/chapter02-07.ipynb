{
 "cells": [
  {
   "cell_type": "markdown",
   "id": "95ddcf7c",
   "metadata": {},
   "source": [
    "### 실습02-07 10진수 정숫값을 입력받아 2~36진수로 변환하여 출력하기"
   ]
  },
  {
   "cell_type": "code",
   "execution_count": 3,
   "id": "371c282d",
   "metadata": {},
   "outputs": [
    {
     "name": "stdout",
     "output_type": "stream",
     "text": [
      "10진수를 n진수로 변환합니다.\n",
      "변환할 값으로 음이 아닌 정수를 입력하세요: 29\n",
      "어떤 진수로 변환할까요?: 2\n",
      "2진수로는 11101 입니다.\n",
      "한 번 더 변환할까요?(Y --- 예 / N --- 아니요): n\n"
     ]
    }
   ],
   "source": [
    "def card_conv(x, r):\n",
    "    \"\"\"정숫값 x를 r진수로 반환 뒤 그 수를 나타내는 문자열을 반환\"\"\"\n",
    "    \n",
    "    d = ''\n",
    "    dchar = '0123456789ABCDEFGHIJKLMNOPQRSTUVWXYZ'\n",
    "    \n",
    "    while x > 0:\n",
    "        d += dchar[x % r]\n",
    "        x //= r\n",
    "        \n",
    "    return d[::-1]\n",
    "\n",
    "if __name__ == '__main__':\n",
    "    print(\"10진수를 n진수로 변환합니다.\")\n",
    "    \n",
    "    while True:\n",
    "        while True:\n",
    "            num = int(input(\"변환할 값으로 음이 아닌 정수를 입력하세요: \"))\n",
    "            if num >= 0:\n",
    "                break\n",
    "                \n",
    "        while True:\n",
    "            cd = int(input(\"어떤 진수로 변환할까요?: \"))\n",
    "            if 2 <= cd <= 36:\n",
    "                break\n",
    "                \n",
    "        print(f'{cd}진수로는 {card_conv(num, cd)} 입니다.')\n",
    "        \n",
    "        retry = input(\"한 번 더 변환할까요?(Y --- 예 / N --- 아니요): \")\n",
    "        if retry == 'N' or 'n':\n",
    "            break"
   ]
  }
 ],
 "metadata": {
  "kernelspec": {
   "display_name": "Python 3 (ipykernel)",
   "language": "python",
   "name": "python3"
  },
  "language_info": {
   "codemirror_mode": {
    "name": "ipython",
    "version": 3
   },
   "file_extension": ".py",
   "mimetype": "text/x-python",
   "name": "python",
   "nbconvert_exporter": "python",
   "pygments_lexer": "ipython3",
   "version": "3.10.3"
  }
 },
 "nbformat": 4,
 "nbformat_minor": 5
}
