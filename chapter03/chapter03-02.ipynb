{
 "cells": [
  {
   "cell_type": "markdown",
   "id": "3bc4509a",
   "metadata": {},
   "source": [
    "### 실습03-02 선형 검색(for문)"
   ]
  },
  {
   "cell_type": "code",
   "execution_count": 1,
   "id": "0776ff72",
   "metadata": {},
   "outputs": [
    {
     "name": "stdout",
     "output_type": "stream",
     "text": [
      "원소 수를 입력하세요.: 7\n",
      "x[0]: 6\n",
      "x[1]: 4\n",
      "x[2]: 3\n",
      "x[3]: 2\n",
      "x[4]: 1\n",
      "x[5]: 2\n",
      "x[6]: 8\n",
      "검색할 값을 입력하세요.: 2\n",
      "검색 값은 x[3]에 있습니다.\n"
     ]
    }
   ],
   "source": [
    "def seq_search(a, key):\n",
    "    for i in range(len(a)):\n",
    "        if a[i] == key:\n",
    "            return i\n",
    "    return -1\n",
    "\n",
    "if __name__ == '__main__':\n",
    "    num = int(input(\"원소 수를 입력하세요.: \"))\n",
    "    x = [None] * num\n",
    "    \n",
    "    for i in range(num):\n",
    "        x[i] = int(input(f'x[{i}]: '))\n",
    "        \n",
    "    ky = int(input(\"검색할 값을 입력하세요.: \"))\n",
    "        \n",
    "    idx = seq_search(x, ky)\n",
    "        \n",
    "    if idx == -1:\n",
    "        print(\"검색값을 갖는 원소가 존재하지 않습니다.\")\n",
    "    else:\n",
    "        print(f'검색 값은 x[{idx}]에 있습니다.')"
   ]
  }
 ],
 "metadata": {
  "kernelspec": {
   "display_name": "Python 3 (ipykernel)",
   "language": "python",
   "name": "python3"
  },
  "language_info": {
   "codemirror_mode": {
    "name": "ipython",
    "version": 3
   },
   "file_extension": ".py",
   "mimetype": "text/x-python",
   "name": "python",
   "nbconvert_exporter": "python",
   "pygments_lexer": "ipython3",
   "version": "3.10.3"
  }
 },
 "nbformat": 4,
 "nbformat_minor": 5
}
