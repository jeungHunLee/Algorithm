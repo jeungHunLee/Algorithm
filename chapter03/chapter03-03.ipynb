{
 "cells": [
  {
   "cell_type": "markdown",
   "id": "d2d8b443",
   "metadata": {},
   "source": [
    "### 실습03-03 보초법"
   ]
  },
  {
   "cell_type": "code",
   "execution_count": 3,
   "id": "1e31cb5e",
   "metadata": {},
   "outputs": [
    {
     "name": "stdout",
     "output_type": "stream",
     "text": [
      "원소의 수를 입력하세요: 7\n",
      "x[0]: 6\n",
      "x[1]: 4\n",
      "x[2]: 3\n",
      "x[3]: 2\n",
      "x[4]: 1\n",
      "x[5]: 2\n",
      "x[6]: 8\n",
      "검색할 값을 입력하세요: 2\n",
      "검색 값은 x[3]에 있습니다.\n"
     ]
    }
   ],
   "source": [
    "import copy\n",
    "\n",
    "def seq_search(seq, key):\n",
    "    a = copy.deepcopy(seq)\n",
    "    a.append(key)\n",
    "    \n",
    "    i = 0\n",
    "    while True:\n",
    "        if a[i] == key:\n",
    "            break\n",
    "            \n",
    "        i += 1\n",
    "    if i == len(seq):\n",
    "        return -1\n",
    "    else:\n",
    "        return i\n",
    "    \n",
    "if __name__ == '__main__':\n",
    "    num = int(input(\"원소의 수를 입력하세요: \"))\n",
    "    x = [None] * num\n",
    "    \n",
    "    for i in range(num):\n",
    "        x[i] = int(input(f'x[{i}]: '))\n",
    "        \n",
    "    key = int(input(\"검색할 값을 입력하세요: \"))\n",
    "    \n",
    "    if seq_search(x, key) != -1:\n",
    "        print(f'검색 값은 x[{seq_search(x, key)}]에 있습니다.')\n",
    "    else:\n",
    "        pprint(\"검색값을 갖는 원소가 존재하지 않습니다.\")"
   ]
  }
 ],
 "metadata": {
  "kernelspec": {
   "display_name": "Python 3 (ipykernel)",
   "language": "python",
   "name": "python3"
  },
  "language_info": {
   "codemirror_mode": {
    "name": "ipython",
    "version": 3
   },
   "file_extension": ".py",
   "mimetype": "text/x-python",
   "name": "python",
   "nbconvert_exporter": "python",
   "pygments_lexer": "ipython3",
   "version": "3.10.3"
  }
 },
 "nbformat": 4,
 "nbformat_minor": 5
}
