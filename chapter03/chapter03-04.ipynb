{
 "cells": [
  {
   "cell_type": "markdown",
   "id": "1bf98109",
   "metadata": {},
   "source": [
    "### 실습03-04 이진 검색(재귀)"
   ]
  },
  {
   "cell_type": "code",
   "execution_count": 11,
   "id": "29222147",
   "metadata": {},
   "outputs": [
    {
     "name": "stdout",
     "output_type": "stream",
     "text": [
      "원소의 수를 입력하세요: 7\n",
      "배열의 데이터를 오름차순으로 입력하세요\n",
      "x[0]: 1\n",
      "x[1]: 2\n",
      "x[2]: 3\n",
      "x[3]: 5\n",
      "x[4]: 7\n",
      "x[5]: 8\n",
      "x[6]: 9\n",
      "검색할 값을 입력하세요: 5\n",
      "검색 값은 x[3]에 있습니다.\n"
     ]
    }
   ],
   "source": [
    "def binary_search(array, target, start, end):\n",
    "    mid = (start + end) // 2\n",
    "    \n",
    "    if start > end:\n",
    "        return -1\n",
    "    \n",
    "    if target == array[mid]:\n",
    "        return mid\n",
    "    elif target < array[mid]:    # 검색 범위를 절반으로 줄임\n",
    "        return binary_search(array, target, start, mid - 1)\n",
    "    else:    # 검색 범위를 절반으로 줄임\n",
    "        return binary_search(array, target, mid + 1, end)\n",
    "    \n",
    "if __name__ == '__main__':\n",
    "    num = int(input(\"원소의 수를 입력하세요: \"))\n",
    "    x = [None] * num\n",
    "    \n",
    "    print(\"배열의 데이터를 오름차순으로 입력하세요\")\n",
    "    x[0] = int(input('x[0]: '))\n",
    "    for i in range(1, num):\n",
    "        while True:\n",
    "            x[i] = int(input(f'x[{i}]: '))\n",
    "            if x[i] >= x[i - 1]:\n",
    "                break\n",
    "\n",
    "        \n",
    "    target = int(input(\"검색할 값을 입력하세요: \"))\n",
    "    \n",
    "    idx = binary_search(x, target, 0, len(x) - 1)\n",
    "    \n",
    "    if idx == -1:\n",
    "        print(\"검색값을 가지는 원소가 존재하지 않습니다.\")\n",
    "    else:\n",
    "        print(f'검색 값은 x[{idx}]에 있습니다.')"
   ]
  },
  {
   "cell_type": "markdown",
   "id": "bcad0614",
   "metadata": {},
   "source": [
    "### 실습03-04 이진 탐색(반복문)"
   ]
  },
  {
   "cell_type": "code",
   "execution_count": 10,
   "id": "7167c2e7",
   "metadata": {},
   "outputs": [
    {
     "name": "stdout",
     "output_type": "stream",
     "text": [
      "원소의 수를 입력하세요: 7\n",
      "배열의 데이터를 오름차순으로 입력하세요\n",
      "x[0]: 1\n",
      "x[1]: 2\n",
      "x[2]: 3\n",
      "x[3]: 5\n",
      "x[4]: 7\n",
      "x[5]: 8\n",
      "x[6]: 9\n",
      "검색할 값을 입력하세요: 5\n",
      "검색 값은 x[3]에 있습니다.\n"
     ]
    }
   ],
   "source": [
    "def binary_search(a, key):\n",
    "    pl = 0    # 시작 index\n",
    "    pr = len(a) - 1   # 마지막 index\n",
    "    \n",
    "    while True:\n",
    "        pc = (pl + pr) // 2\n",
    "        \n",
    "        if a[pc] == key:\n",
    "            return pc\n",
    "        elif a[pc] < key:\n",
    "            pl = pc + 1\n",
    "        else:\n",
    "            pr = pc - 1\n",
    "            \n",
    "        if pl > pr:\n",
    "            break\n",
    "    return -1\n",
    "\n",
    "if __name__ == '__main__':\n",
    "    num = int(input(\"원소의 수를 입력하세요: \"))\n",
    "    x = [None] * num\n",
    "    \n",
    "    print(\"배열의 데이터를 오름차순으로 입력하세요\")\n",
    "    x[0] = int(input('x[0]: '))\n",
    "    for i in range(1, num):\n",
    "        while True:\n",
    "            x[i] = int(input(f'x[{i}]: '))\n",
    "            if x[i] >= x[i - 1]:\n",
    "                break\n",
    "        \n",
    "    ky = int(input(\"검색할 값을 입력하세요: \"))\n",
    "    \n",
    "    idx = binary_search(x, ky)\n",
    "    \n",
    "    if idx == -1:\n",
    "        print(\"검색값을 가지는 원소가 존재하지 않습니다.\")\n",
    "    else:\n",
    "        print(f'검색 값은 x[{idx}]에 있습니다.') "
   ]
  }
 ],
 "metadata": {
  "kernelspec": {
   "display_name": "Python 3 (ipykernel)",
   "language": "python",
   "name": "python3"
  },
  "language_info": {
   "codemirror_mode": {
    "name": "ipython",
    "version": 3
   },
   "file_extension": ".py",
   "mimetype": "text/x-python",
   "name": "python",
   "nbconvert_exporter": "python",
   "pygments_lexer": "ipython3",
   "version": "3.10.3"
  }
 },
 "nbformat": 4,
 "nbformat_minor": 5
}
