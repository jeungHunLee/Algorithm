{
 "cells": [
  {
   "cell_type": "markdown",
   "id": "63854d9c",
   "metadata": {},
   "source": [
    "### 실습01-05 4개로 분기하는 조건문"
   ]
  },
  {
   "cell_type": "code",
   "execution_count": 2,
   "id": "f8a44559",
   "metadata": {},
   "outputs": [
    {
     "name": "stdout",
     "output_type": "stream",
     "text": [
      "정수를 입력하세요: 4\n"
     ]
    }
   ],
   "source": [
    "n = int(input(\"정수를 입력하세요: \"))\n",
    "\n",
    "if n == 1:    # n이 1과 일치한다면 'A'\n",
    "    print('A')\n",
    "elif n == 2:    # n이 2와 일치한다면 'B'\n",
    "    print('B')\n",
    "elif n == 3:    # n이 3과 일치한다면 'C'\n",
    "    print('C')"
   ]
  }
 ],
 "metadata": {
  "kernelspec": {
   "display_name": "Python 3 (ipykernel)",
   "language": "python",
   "name": "python3"
  },
  "language_info": {
   "codemirror_mode": {
    "name": "ipython",
    "version": 3
   },
   "file_extension": ".py",
   "mimetype": "text/x-python",
   "name": "python",
   "nbconvert_exporter": "python",
   "pygments_lexer": "ipython3",
   "version": "3.10.3"
  }
 },
 "nbformat": 4,
 "nbformat_minor": 5
}
