{
 "cells": [
  {
   "cell_type": "markdown",
   "id": "217ea0c3",
   "metadata": {},
   "source": [
    "### 실습01-03 입력받은 정수의 부호(양수, 음수, 0) 출력하기"
   ]
  },
  {
   "cell_type": "code",
   "execution_count": 2,
   "id": "6af01b7b",
   "metadata": {},
   "outputs": [
    {
     "name": "stdout",
     "output_type": "stream",
     "text": [
      "정수를 입력하세요.: -5\n",
      "이 수는 음수입니다.\n"
     ]
    }
   ],
   "source": [
    "n = int(input(\"정수를 입력하세요.: \"))\n",
    "\n",
    "if n > 0:    # 0보다 크다면 양수\n",
    "    print(\"이 수는 양수입니다.\")\n",
    "elif n < 0 :    # 0보다 작으면 음수\n",
    "    print(\"이 수는 음수입니다.\")\n",
    "else:    # 위의 조건을 모두 만족하지 않으면 0\n",
    "    print(\"이 수는 0입니다.\")"
   ]
  }
 ],
 "metadata": {
  "kernelspec": {
   "display_name": "Python 3 (ipykernel)",
   "language": "python",
   "name": "python3"
  },
  "language_info": {
   "codemirror_mode": {
    "name": "ipython",
    "version": 3
   },
   "file_extension": ".py",
   "mimetype": "text/x-python",
   "name": "python",
   "nbconvert_exporter": "python",
   "pygments_lexer": "ipython3",
   "version": "3.10.3"
  }
 },
 "nbformat": 4,
 "nbformat_minor": 5
}
