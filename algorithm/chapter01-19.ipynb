{
 "cells": [
  {
   "cell_type": "markdown",
   "id": "4bf2c939",
   "metadata": {},
   "source": [
    "### 실습01-19 1~12까지 정수 중 8을 건너뛰고 출력하기 1"
   ]
  },
  {
   "cell_type": "code",
   "execution_count": 2,
   "id": "9e54160d",
   "metadata": {},
   "outputs": [
    {
     "name": "stdout",
     "output_type": "stream",
     "text": [
      "1 2 3 4 5 6 7 9 10 11 12 "
     ]
    }
   ],
   "source": [
    "for i in range(1, 13):\n",
    "    if i == 8:\n",
    "        continue\n",
    "    else:\n",
    "        print(i, end=\" \")\n",
    "print()"
   ]
  }
 ],
 "metadata": {
  "kernelspec": {
   "display_name": "Python 3 (ipykernel)",
   "language": "python",
   "name": "python3"
  },
  "language_info": {
   "codemirror_mode": {
    "name": "ipython",
    "version": 3
   },
   "file_extension": ".py",
   "mimetype": "text/x-python",
   "name": "python",
   "nbconvert_exporter": "python",
   "pygments_lexer": "ipython3",
   "version": "3.10.3"
  }
 },
 "nbformat": 4,
 "nbformat_minor": 5
}
