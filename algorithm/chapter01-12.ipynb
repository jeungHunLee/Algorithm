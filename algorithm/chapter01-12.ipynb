{
 "cells": [
  {
   "cell_type": "markdown",
   "id": "a2dee1a4",
   "metadata": {},
   "source": [
    "### 실습01-12 +와 -를 번갈아 출력하기"
   ]
  },
  {
   "cell_type": "code",
   "execution_count": 2,
   "id": "42f9adc8",
   "metadata": {},
   "outputs": [
    {
     "name": "stdout",
     "output_type": "stream",
     "text": [
      "+와 -를 번갈아 출력합니다.\n",
      "몇개를 출력할까요?: 12\n",
      "+-+-+-+-+-+-\n"
     ]
    }
   ],
   "source": [
    "print(\"+와 -를 번갈아 출력합니다.\")\n",
    "n = int(input(\"몇개를 출력할까요?: \"))\n",
    "\n",
    "for i in range(n):\n",
    "    if i % 2 != 0:    # 홀수번째는 '-'\n",
    "        print('-', end=\"\")\n",
    "    else:    # 짝수번째는 '+'\n",
    "        print('+', end=\"\")\n",
    "print()"
   ]
  }
 ],
 "metadata": {
  "kernelspec": {
   "display_name": "Python 3 (ipykernel)",
   "language": "python",
   "name": "python3"
  },
  "language_info": {
   "codemirror_mode": {
    "name": "ipython",
    "version": 3
   },
   "file_extension": ".py",
   "mimetype": "text/x-python",
   "name": "python",
   "nbconvert_exporter": "python",
   "pygments_lexer": "ipython3",
   "version": "3.10.3"
  }
 },
 "nbformat": 4,
 "nbformat_minor": 5
}
