{
 "cells": [
  {
   "cell_type": "markdown",
   "id": "71bb319f",
   "metadata": {},
   "source": [
    "### 실습01-10 a부터 b까지 정수의 합 구하기 1"
   ]
  },
  {
   "cell_type": "code",
   "execution_count": 4,
   "id": "a20f0b42",
   "metadata": {},
   "outputs": [
    {
     "name": "stdout",
     "output_type": "stream",
     "text": [
      "a부터 b까지 정수의 합을 구합니다.\n",
      "정수 a의 값을 입력하세요.: 3\n",
      "정수 b의 값을 입력하세요.: 4\n",
      "3 + 4 = 7\n"
     ]
    }
   ],
   "source": [
    "print(\"a부터 b까지 정수의 합을 구합니다.\")\n",
    "a = int(input(\"정수 a의 값을 입력하세요.: \"))\n",
    "b = int(input(\"정수 b의 값을 입력하세요.: \"))\n",
    "\n",
    "if a > b:    # 만약 a가 더 크다면 swap\n",
    "    a, b = b, a\n",
    "    \n",
    "sum = 0\n",
    "for i in range(a, b + 1):\n",
    "    if i < b:\n",
    "        print(str(i) + ' + ', end='')\n",
    "    else:\n",
    "        print(str(i) + ' = ', end='')\n",
    "    sum += i\n",
    "        \n",
    "print(sum)"
   ]
  }
 ],
 "metadata": {
  "kernelspec": {
   "display_name": "Python 3 (ipykernel)",
   "language": "python",
   "name": "python3"
  },
  "language_info": {
   "codemirror_mode": {
    "name": "ipython",
    "version": 3
   },
   "file_extension": ".py",
   "mimetype": "text/x-python",
   "name": "python",
   "nbconvert_exporter": "python",
   "pygments_lexer": "ipython3",
   "version": "3.10.3"
  }
 },
 "nbformat": 4,
 "nbformat_minor": 5
}
