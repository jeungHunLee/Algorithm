{
 "cells": [
  {
   "cell_type": "markdown",
   "id": "6cd89180",
   "metadata": {},
   "source": [
    "### 실습01-01 세 정수를 입력받아 최댓값 구하기"
   ]
  },
  {
   "cell_type": "code",
   "execution_count": 4,
   "id": "7e3863c7",
   "metadata": {},
   "outputs": [
    {
     "name": "stdout",
     "output_type": "stream",
     "text": [
      "세 정수의 최댓값을 구합니다.\n",
      "정수 a의 값을 입력하세요.: 1\n",
      "정수 b의 값을 입력하세요.: 3\n",
      "정수 c의 값을 입력하세요.: 2\n",
      "최댓값은 3입니다.\n"
     ]
    }
   ],
   "source": [
    "print(\"세 정수의 최댓값을 구합니다.\")\n",
    "a = int(input(\"정수 a의 값을 입력하세요.: \"))\n",
    "b = int(input(\"정수 b의 값을 입력하세요.: \"))\n",
    "c = int(input(\"정수 c의 값을 입력하세요.: \"))\n",
    "\n",
    "maximum = max(a, b, c)    # 최댓값\n",
    "print(\"최댓값은 \" + str(maximum) + \"입니다.\")"
   ]
  }
 ],
 "metadata": {
  "kernelspec": {
   "display_name": "Python 3 (ipykernel)",
   "language": "python",
   "name": "python3"
  },
  "language_info": {
   "codemirror_mode": {
    "name": "ipython",
    "version": 3
   },
   "file_extension": ".py",
   "mimetype": "text/x-python",
   "name": "python",
   "nbconvert_exporter": "python",
   "pygments_lexer": "ipython3",
   "version": "3.10.3"
  }
 },
 "nbformat": 4,
 "nbformat_minor": 5
}
