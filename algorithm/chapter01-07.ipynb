{
 "cells": [
  {
   "cell_type": "markdown",
   "id": "26b66128",
   "metadata": {},
   "source": [
    "### 실습01-07 1부터 n까지 정수의 합 구하기(while 문)"
   ]
  },
  {
   "cell_type": "code",
   "execution_count": 3,
   "id": "30dbcfae",
   "metadata": {},
   "outputs": [
    {
     "name": "stdout",
     "output_type": "stream",
     "text": [
      "1부터 n까지 정수의 합을 구합니다.\n",
      "n의 값을 입력하세요.: 5\n",
      "1부터 5까지의 합은 15입니다.\n"
     ]
    }
   ],
   "source": [
    "print(\"1부터 n까지 정수의 합을 구합니다.\")\n",
    "n = int(input(\"n의 값을 입력하세요.: \"))\n",
    "\n",
    "sum = 0\n",
    "i = 1\n",
    "\n",
    "while i <= n:    # i가 n보다 작거나 같은 동안 반복문 수행\n",
    "    sum += i\n",
    "    i += 1\n",
    "    \n",
    "print(\"1부터 \" + str(n) + \"까지의 합은 \" + str(sum) + \"입니다.\")"
   ]
  }
 ],
 "metadata": {
  "kernelspec": {
   "display_name": "Python 3 (ipykernel)",
   "language": "python",
   "name": "python3"
  },
  "language_info": {
   "codemirror_mode": {
    "name": "ipython",
    "version": 3
   },
   "file_extension": ".py",
   "mimetype": "text/x-python",
   "name": "python",
   "nbconvert_exporter": "python",
   "pygments_lexer": "ipython3",
   "version": "3.10.3"
  }
 },
 "nbformat": 4,
 "nbformat_minor": 5
}
